{
 "cells": [
  {
   "cell_type": "markdown",
   "id": "8451902c-a8fb-4af3-b7ae-418e039a0515",
   "metadata": {
    "tags": []
   },
   "source": [
    "# **Oppimispäiväkirja**"
   ]
  },
  {
   "cell_type": "markdown",
   "id": "1b8eb35e-519f-4171-b2f8-af74e5278cd9",
   "metadata": {
    "tags": []
   },
   "source": [
    "**Tiedoksi lukijalle, useat luvut ovat viimeistelyä vailla, eikä niitä pidä tulkita tässä vaiheessa lopullisena tuotoksena!**\n",
    "\n",
    "**Tämä dokumentti toimii oppimispäiväkirjana / harjoitystyönä opintojaksolle TIJO.222 Johdanto Datatieteeseen. Oppimispäiväkirjan tarkoituksena voitaneen pitää luentoviikon asioiden pohtimista erilaisista näkökulmista, sekä oman oppimisen seuraamista.**\n",
    "\n",
    "# Luentoviikko 1 - Aloittelua\n",
    "\n",
    "Huom! Aiheen pohjustuksesta johtuen ensimmäisen viikon luku on huomattavasti ekstensiivisempi kuin myöhempien viikkojen luvut.\n",
    "\n",
    "Kiltatoiminnan ja valitettavaan ajankohtaan sijoittuneen työhaastattelun vuoksi en kyennyt osallistumaan ensimmäisen viikon luennoille läsnä. Onneksi luentojen seuraaminen onnistui kuitenkin myös jälkikäteen. Ensimmäinen luentoviikko pyrki esittelemään kurssin aihepiiriä kokonaisuutena, sekä paneutumaan tarkemmin joihinkin datatieteessä hyödynnettäviin työkaluihin ja teknologioihin. Ohjelmointiharjoitusten puolella jatkettiin keskeisiin teknologioihin (Python ja JupyterLab) tutustumista, sekä harjoiteltiin tabulaarisen datan käsittelyä.\n",
    "\n",
    "#### Mitä on datatiede? Entä kuka on Datatieteilijä?\n",
    "\n",
    "Siitä huolimatta, että olen opiskellut lukuisia aihetta sivuavia kursseja yliopisto-opintojeni aikana, datatiede käsitteenä on vaikuttanut minusta jossain määrin sekavalta. Lukemattomat prosessikaaviot ja sanapilvet ovat viljelleet minulle tuntemattomia käsitteitä, joiden määritelmät ovat vaikuttaneet epämääräisiltä ja rinnakkaisilta. Eräs blogikirjoitus esittääkin datieteen määritelmän epämääräisyyden huvittavasti karrikoiden - *\"Statistics dressed up in fancy clothes\"* tai *\"Statistics on a Mac\"*.\n",
    "\n",
    "Ennalta minullekin on ollut selvää vain, että datatieteen yhteydessä voidaan hyödyntää ohjelmointia, ja että sen tavoitteena on tutkia dataa ja tehdä päätelmiä sen pohjalta. Pitkälti tällä tavoin datatiede usein tiivistetäänkin. Omasta näkökulmastani kokonaisuuden ymmärrystä helpottaa datatieteen jakaminen sille tyypillisiin osaamisalueisiin. Oppimateriaalissa esitetty jako ohjelmointiin, tilastotieteeseen, sekä liiketoiminta- ja viestintäosaamiseen havainnollistaa datatieteilijän roolin moninaisuutta.\n",
    "\n",
    "<img src=\"roles.png\" width=600 height=600 />\n",
    "\n",
    "Datatieteilijä, datainsinööri vai data-analyytikko? Erityistä uutuusarvoa koin perehtyessäni datatieteilijän rooliin verrattuna muihin data-ammattilaisten nimikkeisiin. Ymmärrykseni mukaan datatieteilijä ei sijoittuisi täysin perinteiselle \"technical - business\" -spektrille. Datatieteilijä hankkii pitkälti oman datansa (vrt. datainsinööri) ja on vastuussa myös sen jalostamisesta ja esittelemisestä päätöksentekijöille (vrt. data- / business analyst). Datatieteilijä vaikuttaa toimivan tietynlaisena \"uudisraivaajana\", joka etsii uusia tapoja kerätä dataa ja tuottaa siitä näkemyksiä.\n",
    "\n",
    "#### Ohjelmoinnin rooli datatieteessä\n",
    "\n",
    "Kuten edellä totesin, datatieteilijä vastaa usein itse myös analyysiprosessin teknisemmistä vaiheista, kuten datan keräämisestä. Kyseisessä vaiheessa voi olla tarpeen kerätä dataa suoraan verkkosivulta esimerkiksi ohjelmointirajapinnan (API) avulla tai noutaa ja yhdistellä dataa useammasta relaatiotietokannasta SQL-kyselykielen avulla. Uskoakseni tämä korostaa ohjelmointitaidon merkitystä yhtenä datatieteilijän tärkeimmistä osaamisalueista.\n",
    "\n",
    "Ohjelmointi- ja tietokantaosaaminen on läsnä myös muissa data-analyysiprosessin (esim. CRISP-DM) vaiheissa. Datan ymmärtämisessä (data understanding), joka kattaa paitsi datan keräämisen, myös sen kuvailemisen ja laadun varmistamisen, voidaan hyödyntää esimerkiksi python- tai R-ohjelmointikieliä. Datan valmistelussa (data preparation), eli datan putsaamisessa ja muuntamisessa oikeaan muotoon voidaan vastaavasti käyttää esimerkiksi SQL-kieltä (jos datasetti on liian suuri taulukkolaskentaohjelmalla käsiteltäväksi). Datan mallintamisessa (data modelling) käytetyt tekniikat ja teknologiat vaihtelevat suuresti analyysin kontekstista riippuen, mutta mallien rakentamisessa käytetään laajalti Python-ohjelmointikieltä. MatLab ja R-ohjelmointikielet ovat myös suosittuja, sillä ne ovat luotu juuri datan analysointia varten (vrt. Python general purpose-ohjelmointikielenä)\n",
    "\n",
    "\n",
    "#### Datatieteen työkaluja\n",
    "\n",
    "Lienee siis selvää, että ohjelmointiosaaminen on datatieteilijälle kriittistä. Ensimmäisen luentoviikon aikana tutustuttiinkin hieman lähemmin joihinkin datatieteilijöiden usein hyödyntämiin työkaluihin - JupyterLab-ohjelmointiympäristöön, sekä jo edellä mainittuun Python-ohjelmointikieleen.\n",
    "\n",
    "JupyterLab on datatietelijöiden keskuudessa suosittu verkkopohjainen ohjelmointiympäristö, joka mahdollistaa nopean ja iteratiivisen analyysien kehittämisen ja dokumentoinnin yhdistelemällä koodia, sen ulostuloa, sekä Markdown-syntaksilla kirjoitettua tekstiä (ja muita elementtejä kuten kuvia, ks. ylhäällä). JupyterLab ympäristössä ohjelmointi vaikuttaa eroavan huomattavasti ns. tuotanto-ohjelmoinnista, jota ohjelmoinnin peruskurssillakin harjoiteltiin PyCharm-ympäristössä. Muistion kaltaisella alustalla analyysien kehittäminen ja testaaminen on nopeaa, eikä sitä varten ole tarvetta rakentaa esimerkiksi ohjelman runkoa. Muistio mahdollistaa myös analyysien helpon ja näyttävän jakamisen kollegoille, joiden ei tarvinnne olla teknisesti orientoituneita voidakseen käyttää ja ymmärtää muistion sisältöä.\n",
    "\n",
    "Python puolestaan on minullekin ohjelmoinnin peruskurssin kautta tuttu monikäyttöinen (general purpose) ohjelmointikieli, joka on tunnettu sen intuitiivisesta, aloittelijoille suunnatusta syntaksista ja käyttökokemuksesta. Pythonin vahvuutena datatieteessä on sen laajennettavuus kehittäjäyhteisön luomien kirjastojen avulla. Datatietessä käytetyimpiä kirjastoja ovat Pandas, NumPy, Matplotlib ja Scikit-learn. Pandas ja NumPy ovat erityisen käyttökelpoisia numeerisen ja tabulaarimuotoisen datan käsittelyssä ja analysoinnissa. Matplotlib puolestaan on käytetty sen\n",
    "visualisointikyvykkyyksien vuoksi. Scikit-learn on erityisesti koneoppimisen tehtäviä varten luotu kirjasto.\n",
    "\n",
    "#### Omasta osaamisestani ja oppimistavoitteista\n",
    "\n",
    "Palatakseni datatieteilijän osaamisaluiden Venn-diagrammiin, itselläni on suorittamineni tuotantotalouden pääaineopintojen myötä karttunut tietoa erityisesti liiketoiminnan näkökulmasta. Minulla on esimerkiksi perustavaa laatua olevaa ymmärrystä, miten tuotteiden tai palvelujen kannattavuus muodostuu, tai millä tavalla yrityksen on mahdollista differoida tarjoomaansa kilpailuilla markkinoilla. Perustavaa laatua olevan liiketoimintaymmärryksen lisäksi uskon, että datatieteilijä tarvitsee usein myös spesifimpää, toimialakohtaista liiketoimintaymmärrystä - esimerkiksi, miten asiakkaan kokema arvo muodostuu ohjelmistokonsultoinnissa.\n",
    "\n",
    "Suorittamieni datateknologian sivuaineopintojen ansiosta minulla on hieman ymmärrystä myös tilastotieteen menetelmistä, joista uskon olevan hyötyä niiden käyttöön liittyvän intuition kehittämisessä. Edelleen tunnistan, että minulla on varmastikin vähäisintä osaamista ohjelmoinnin ja datalähtöisen viestinnän saroilta. Eräiksi oppimistavoitteikseni määrittelisinkin osaamiseni kasvattamisen juuri näillä datatieteen osa-alueilla. Kaikkein keskeisimpänä oppimistavoitteena näkisin kuitenkin kaikkien edellä mainittujen osa-alueiden yhteensovittamisen ja ymmärryksen siitä, miten datatiede-projekti viedään ongelman / mahdollisuuden tunnistamisesta aina suositusten tekemiseen ja esittämiseen saakka.\n",
    "\n",
    "[What is Data Science?](https://towardsdatascience.com/what-is-data-science-8c8fbaef1d37)\n",
    "\n",
    "[Getting Started with JupyterLab | SciPy 2019 Tutorial | M. Bussonnier, J. Grout, S. Stattel](https://www.youtube.com/watch?v=RFabWieskak)\n",
    "\n",
    "[Top Tools for Data Exploration and Visualization With Their Pros and Cons](https://neptune.ai/blog/data-exploration-and-visualization-best-tools)\n",
    "\n",
    "#### Luentoviikon 1 koodidemo\n",
    "\n",
    "Käytetään luentoviikon 1 koodidemon yhteydessä datasettiä, joka sisältää erään brittiläisen verkkokaupan transaktiodataa vuosilta 2010-2011. Datasetti on löydettävissä ja ladattavissa [täältä](https://www.kaggle.com/carrie1/ecommerce-data)."
   ]
  },
  {
   "cell_type": "code",
   "execution_count": 1,
   "id": "2f0a51d9-a507-45e6-9cf9-33984fa15691",
   "metadata": {},
   "outputs": [
    {
     "name": "stdout",
     "output_type": "stream",
     "text": [
      "ecommerce-data.zip: Skipping, found more recently modified local copy (use --force to force download)\n"
     ]
    }
   ],
   "source": [
    "# Käytetään Kaggle API:tä datasetin lataamiseen. Shell-komentojen edessä on käytettävä !-merkkiä.\n",
    "!kaggle datasets download -d carrie1/ecommerce-data"
   ]
  },
  {
   "cell_type": "code",
   "execution_count": 1,
   "id": "f7fb9eb5-6ec5-4ddc-990b-0f2051a9e93e",
   "metadata": {},
   "outputs": [],
   "source": [
    "# Ladattu tiedosto on .zip-muodossa. Ladataan tiedoston purkamista varten  Pythonin zipfile-kirjasto.\n",
    "import zipfile\n",
    "import pandas as pd\n",
    "\n",
    "# Määritellään avattava tiedosto ja avatun tiedoston sijoitus\n",
    "file_to_unzip = \"ecommerce-data.zip\"\n",
    "directory_to_extract_to = r\"C:\\Users\\Omistaja\"\n",
    "\n",
    "# Avataan .zip-tiedosto ZipFile-funktiolla\n",
    "with zipfile.ZipFile(file_to_unzip, 'r') as zip_ref:\n",
    "    zip_ref.extractall(directory_to_extract_to)"
   ]
  },
  {
   "cell_type": "code",
   "execution_count": 5,
   "id": "ee582be0-14fd-4318-b277-03339ca77a9a",
   "metadata": {},
   "outputs": [
    {
     "name": "stderr",
     "output_type": "stream",
     "text": [
      "M„„ritetty„ tiedostoa ei l”ydy.\n"
     ]
    }
   ],
   "source": [
    "# Koska tiedoston nykyinen nimi \"data.csv\" ei kuvaa sen nimeä oikeellisesti, käytetään\n",
    "# Shell-komentoa sen uudelleen nimeämiseksi.\n",
    "!rename data.csv ecommerce_data.csv"
   ]
  },
  {
   "cell_type": "code",
   "execution_count": 2,
   "id": "a2280724-38be-4bbf-b14b-faef9c073c0c",
   "metadata": {},
   "outputs": [
    {
     "data": {
      "text/html": [
       "<div>\n",
       "<style scoped>\n",
       "    .dataframe tbody tr th:only-of-type {\n",
       "        vertical-align: middle;\n",
       "    }\n",
       "\n",
       "    .dataframe tbody tr th {\n",
       "        vertical-align: top;\n",
       "    }\n",
       "\n",
       "    .dataframe thead th {\n",
       "        text-align: right;\n",
       "    }\n",
       "</style>\n",
       "<table border=\"1\" class=\"dataframe\">\n",
       "  <thead>\n",
       "    <tr style=\"text-align: right;\">\n",
       "      <th></th>\n",
       "      <th>InvoiceNo</th>\n",
       "      <th>StockCode</th>\n",
       "      <th>Description</th>\n",
       "      <th>Quantity</th>\n",
       "      <th>InvoiceDate</th>\n",
       "      <th>UnitPrice</th>\n",
       "      <th>CustomerID</th>\n",
       "      <th>Country</th>\n",
       "    </tr>\n",
       "  </thead>\n",
       "  <tbody>\n",
       "    <tr>\n",
       "      <th>0</th>\n",
       "      <td>536365</td>\n",
       "      <td>85123A</td>\n",
       "      <td>WHITE HANGING HEART T-LIGHT HOLDER</td>\n",
       "      <td>6</td>\n",
       "      <td>12/1/2010 8:26</td>\n",
       "      <td>2.55</td>\n",
       "      <td>17850.0</td>\n",
       "      <td>United Kingdom</td>\n",
       "    </tr>\n",
       "    <tr>\n",
       "      <th>1</th>\n",
       "      <td>536365</td>\n",
       "      <td>71053</td>\n",
       "      <td>WHITE METAL LANTERN</td>\n",
       "      <td>6</td>\n",
       "      <td>12/1/2010 8:26</td>\n",
       "      <td>3.39</td>\n",
       "      <td>17850.0</td>\n",
       "      <td>United Kingdom</td>\n",
       "    </tr>\n",
       "    <tr>\n",
       "      <th>2</th>\n",
       "      <td>536365</td>\n",
       "      <td>84406B</td>\n",
       "      <td>CREAM CUPID HEARTS COAT HANGER</td>\n",
       "      <td>8</td>\n",
       "      <td>12/1/2010 8:26</td>\n",
       "      <td>2.75</td>\n",
       "      <td>17850.0</td>\n",
       "      <td>United Kingdom</td>\n",
       "    </tr>\n",
       "    <tr>\n",
       "      <th>3</th>\n",
       "      <td>536365</td>\n",
       "      <td>84029G</td>\n",
       "      <td>KNITTED UNION FLAG HOT WATER BOTTLE</td>\n",
       "      <td>6</td>\n",
       "      <td>12/1/2010 8:26</td>\n",
       "      <td>3.39</td>\n",
       "      <td>17850.0</td>\n",
       "      <td>United Kingdom</td>\n",
       "    </tr>\n",
       "    <tr>\n",
       "      <th>4</th>\n",
       "      <td>536365</td>\n",
       "      <td>84029E</td>\n",
       "      <td>RED WOOLLY HOTTIE WHITE HEART.</td>\n",
       "      <td>6</td>\n",
       "      <td>12/1/2010 8:26</td>\n",
       "      <td>3.39</td>\n",
       "      <td>17850.0</td>\n",
       "      <td>United Kingdom</td>\n",
       "    </tr>\n",
       "  </tbody>\n",
       "</table>\n",
       "</div>"
      ],
      "text/plain": [
       "  InvoiceNo StockCode                          Description  Quantity  \\\n",
       "0    536365    85123A   WHITE HANGING HEART T-LIGHT HOLDER         6   \n",
       "1    536365     71053                  WHITE METAL LANTERN         6   \n",
       "2    536365    84406B       CREAM CUPID HEARTS COAT HANGER         8   \n",
       "3    536365    84029G  KNITTED UNION FLAG HOT WATER BOTTLE         6   \n",
       "4    536365    84029E       RED WOOLLY HOTTIE WHITE HEART.         6   \n",
       "\n",
       "      InvoiceDate  UnitPrice  CustomerID         Country  \n",
       "0  12/1/2010 8:26       2.55     17850.0  United Kingdom  \n",
       "1  12/1/2010 8:26       3.39     17850.0  United Kingdom  \n",
       "2  12/1/2010 8:26       2.75     17850.0  United Kingdom  \n",
       "3  12/1/2010 8:26       3.39     17850.0  United Kingdom  \n",
       "4  12/1/2010 8:26       3.39     17850.0  United Kingdom  "
      ]
     },
     "execution_count": 2,
     "metadata": {},
     "output_type": "execute_result"
    }
   ],
   "source": [
    "# Koska .csv-tiedosto on nyt tallennettu paikalliseksi tiedostoksi, voidaan sen avaaamiseen\n",
    "# käyttää yksinkertaisesti tiedostonimeä.\n",
    "data = pd.read_csv(\"ecommerce_data.csv\",encoding='latin1')\n",
    "data.head()"
   ]
  },
  {
   "cell_type": "code",
   "execution_count": 3,
   "id": "ea8c3e97-bf3e-419b-ac60-b1f31bd5595b",
   "metadata": {},
   "outputs": [
    {
     "data": {
      "text/plain": [
       "541909"
      ]
     },
     "execution_count": 3,
     "metadata": {},
     "output_type": "execute_result"
    }
   ],
   "source": [
    "# Montako riviä dataa on?\n",
    "len(data[\"InvoiceNo\"])"
   ]
  },
  {
   "cell_type": "code",
   "execution_count": 85,
   "id": "c91915f5-f02c-4c88-b575-700c7d34f479",
   "metadata": {},
   "outputs": [
    {
     "data": {
      "text/plain": [
       "4373"
      ]
     },
     "execution_count": 85,
     "metadata": {},
     "output_type": "execute_result"
    }
   ],
   "source": [
    "# Pyritään vastaamaan joihinkin perustavan laatuisiin kysymyksiin datasta käyttäen hyväksi Pandas-komentoja\n",
    "# Esimerkiksi, montako uniikkia asiakasta transaktiohistoriasta löytyy?\n",
    "len(data[\"CustomerID\"].unique())"
   ]
  },
  {
   "cell_type": "code",
   "execution_count": 215,
   "id": "a6e6bad1-b5f9-44a2-b3e7-3d207b30c78d",
   "metadata": {},
   "outputs": [
    {
     "data": {
      "text/html": [
       "<div>\n",
       "<style scoped>\n",
       "    .dataframe tbody tr th:only-of-type {\n",
       "        vertical-align: middle;\n",
       "    }\n",
       "\n",
       "    .dataframe tbody tr th {\n",
       "        vertical-align: top;\n",
       "    }\n",
       "\n",
       "    .dataframe thead th {\n",
       "        text-align: right;\n",
       "    }\n",
       "</style>\n",
       "<table border=\"1\" class=\"dataframe\">\n",
       "  <thead>\n",
       "    <tr style=\"text-align: right;\">\n",
       "      <th></th>\n",
       "      <th>Country</th>\n",
       "      <th>no_of_orders</th>\n",
       "    </tr>\n",
       "  </thead>\n",
       "  <tbody>\n",
       "    <tr>\n",
       "      <th>36</th>\n",
       "      <td>United Kingdom</td>\n",
       "      <td>361878</td>\n",
       "    </tr>\n",
       "    <tr>\n",
       "      <th>14</th>\n",
       "      <td>Germany</td>\n",
       "      <td>9495</td>\n",
       "    </tr>\n",
       "    <tr>\n",
       "      <th>13</th>\n",
       "      <td>France</td>\n",
       "      <td>8491</td>\n",
       "    </tr>\n",
       "    <tr>\n",
       "      <th>10</th>\n",
       "      <td>EIRE</td>\n",
       "      <td>7485</td>\n",
       "    </tr>\n",
       "    <tr>\n",
       "      <th>31</th>\n",
       "      <td>Spain</td>\n",
       "      <td>2533</td>\n",
       "    </tr>\n",
       "  </tbody>\n",
       "</table>\n",
       "</div>"
      ],
      "text/plain": [
       "           Country  no_of_orders\n",
       "36  United Kingdom        361878\n",
       "14         Germany          9495\n",
       "13          France          8491\n",
       "10            EIRE          7485\n",
       "31           Spain          2533"
      ]
     },
     "execution_count": 215,
     "metadata": {},
     "output_type": "execute_result"
    }
   ],
   "source": [
    "# Miten tilaukset jakautuvat maantieteellisesti?\n",
    "# TODO - keksi jotain järkevää\n",
    "customers_by_country = data.groupby(by=\"Country\", as_index=False)[\"CustomerID\"].count().rename(columns={\"CustomerID\":\"no_of_orders\"})\n",
    "customers_by_country.sort_values(by=\"no_of_orders\",ascending=False).head()\n",
    "\n",
    "# customers_by_country[:1]"
   ]
  },
  {
   "cell_type": "code",
   "execution_count": 64,
   "id": "dd22ee26-d04e-48d8-bc36-ca56bcb8957c",
   "metadata": {},
   "outputs": [
    {
     "data": {
      "text/html": [
       "<div>\n",
       "<style scoped>\n",
       "    .dataframe tbody tr th:only-of-type {\n",
       "        vertical-align: middle;\n",
       "    }\n",
       "\n",
       "    .dataframe tbody tr th {\n",
       "        vertical-align: top;\n",
       "    }\n",
       "\n",
       "    .dataframe thead th {\n",
       "        text-align: right;\n",
       "    }\n",
       "</style>\n",
       "<table border=\"1\" class=\"dataframe\">\n",
       "  <thead>\n",
       "    <tr style=\"text-align: right;\">\n",
       "      <th></th>\n",
       "      <th>CustomerID</th>\n",
       "      <th>TotalOrders</th>\n",
       "    </tr>\n",
       "  </thead>\n",
       "  <tbody>\n",
       "    <tr>\n",
       "      <th>1895</th>\n",
       "      <td>14911.0</td>\n",
       "      <td>248</td>\n",
       "    </tr>\n",
       "    <tr>\n",
       "      <th>330</th>\n",
       "      <td>12748.0</td>\n",
       "      <td>224</td>\n",
       "    </tr>\n",
       "    <tr>\n",
       "      <th>4042</th>\n",
       "      <td>17841.0</td>\n",
       "      <td>169</td>\n",
       "    </tr>\n",
       "    <tr>\n",
       "      <th>1674</th>\n",
       "      <td>14606.0</td>\n",
       "      <td>128</td>\n",
       "    </tr>\n",
       "    <tr>\n",
       "      <th>568</th>\n",
       "      <td>13089.0</td>\n",
       "      <td>118</td>\n",
       "    </tr>\n",
       "  </tbody>\n",
       "</table>\n",
       "</div>"
      ],
      "text/plain": [
       "      CustomerID  TotalOrders\n",
       "1895     14911.0          248\n",
       "330      12748.0          224\n",
       "4042     17841.0          169\n",
       "1674     14606.0          128\n",
       "568      13089.0          118"
      ]
     },
     "execution_count": 64,
     "metadata": {},
     "output_type": "execute_result"
    }
   ],
   "source": [
    "# Montako tilausta asiakkaat ovat tehneet? Näytetään eniten tilanneet asiakkaat\n",
    "orders = data.groupby(by=\"CustomerID\",as_index=False)[\"InvoiceNo\"].value_counts()\n",
    "orders_by_customer = visits.groupby(by=\"CustomerID\",as_index=False)[\"InvoiceNo\"].count().rename(columns={\"InvoiceNo\":\"TotalOrders\"})\n",
    "orders_by_customer.sort_values(by=\"TotalOrders\", ascending=False).head()"
   ]
  },
  {
   "cell_type": "code",
   "execution_count": 89,
   "id": "25afb782-c282-478a-81e8-033f5934872c",
   "metadata": {},
   "outputs": [
    {
     "data": {
      "text/html": [
       "<div>\n",
       "<style scoped>\n",
       "    .dataframe tbody tr th:only-of-type {\n",
       "        vertical-align: middle;\n",
       "    }\n",
       "\n",
       "    .dataframe tbody tr th {\n",
       "        vertical-align: top;\n",
       "    }\n",
       "\n",
       "    .dataframe thead th {\n",
       "        text-align: right;\n",
       "    }\n",
       "</style>\n",
       "<table border=\"1\" class=\"dataframe\">\n",
       "  <thead>\n",
       "    <tr style=\"text-align: right;\">\n",
       "      <th></th>\n",
       "      <th>CustomerID</th>\n",
       "      <th>AvgNoProducts</th>\n",
       "    </tr>\n",
       "  </thead>\n",
       "  <tbody>\n",
       "    <tr>\n",
       "      <th>0</th>\n",
       "      <td>12346.0</td>\n",
       "      <td>0.000000</td>\n",
       "    </tr>\n",
       "    <tr>\n",
       "      <th>1</th>\n",
       "      <td>12347.0</td>\n",
       "      <td>13.505495</td>\n",
       "    </tr>\n",
       "    <tr>\n",
       "      <th>2</th>\n",
       "      <td>12348.0</td>\n",
       "      <td>75.516129</td>\n",
       "    </tr>\n",
       "    <tr>\n",
       "      <th>3</th>\n",
       "      <td>12349.0</td>\n",
       "      <td>8.643836</td>\n",
       "    </tr>\n",
       "    <tr>\n",
       "      <th>4</th>\n",
       "      <td>12350.0</td>\n",
       "      <td>11.588235</td>\n",
       "    </tr>\n",
       "  </tbody>\n",
       "</table>\n",
       "</div>"
      ],
      "text/plain": [
       "   CustomerID  AvgNoProducts\n",
       "0     12346.0       0.000000\n",
       "1     12347.0      13.505495\n",
       "2     12348.0      75.516129\n",
       "3     12349.0       8.643836\n",
       "4     12350.0      11.588235"
      ]
     },
     "execution_count": 89,
     "metadata": {},
     "output_type": "execute_result"
    }
   ],
   "source": [
    "# Montako tuotetta yksittäinen asiakas on keskimäärin ostanut?\n",
    "products_per_customer = data.groupby(by=\"CustomerID\",as_index=False)[\"Quantity\"].mean().rename(columns={\"Quantity\":\"AvgNoProducts\"})\n",
    "products_per_customer.head()"
   ]
  },
  {
   "cell_type": "markdown",
   "id": "18a125b3-df08-4fe8-972c-10de1d2b60b2",
   "metadata": {
    "tags": []
   },
   "source": [
    "#### Opittua\n",
    "\n",
    "Mitä siis lopulta opin ensimmäisen luentoviikon aikana? Tiivistäisin keskeiset oivallukset seuraavasti:\n",
    "\n",
    "1) Datatiede vaaatii monialaista osaamista, joista ohjelmointiosaaminen on kenties kriittisin\n",
    "2) JupyterLab on datatieteen ja data-analyysiprosessin iteratiivisen luonteen vuoksi erityisen käyttökelpoinen ohjelmointiympäristö\n",
    "3) Python-ohjelmointikielen yleisestä luonteesta huolimatta se on hyvin käytetty työkalu datatieteen parissa\n",
    "4) Raakadata, toisinaan jopa tietokannasta kyselyn avulla hankittu data, on usein virheellistä - esimerkiksi datan formaatti / tyyppi saattaa muuttua\n",
    "5) Datan visualisointia voidaan hyödyntää paitsi analyysin lopputulosten esittelyyn, myös osana datan alkuvaiheen tutkimusta ja kuvailua\n",
    "\n",
    "\n",
    "#### Kehitysideoita luentoviikolle\n",
    "\n",
    "1) Ironista kyllä, mutta siitä huolimatta että en itse päässyt osallistumaan aloitusluennolle, mielestäni opiskelijoiden kannustaminen yhteiseen aloitustilaisuuteen osallistumiseen esimerkiksi pisteporkkanan muodossa olisi mielekästä yhteishengen aikaansaamiseksi"
   ]
  },
  {
   "cell_type": "markdown",
   "id": "1ab670f8-5265-418b-b510-8e4bd2db02a4",
   "metadata": {},
   "source": [
    "# Luentoviikko 2 - Datan kerääminen ja käsittely\n",
    "\n",
    "Työnhakuun ja kiltatoimintaan liittyvien kiireiden vuoksi en kyennyt seuraamaan toisen luentoviikon opetusta paikan päällä. Teinkin itselleni lupauksen, että pyrkisin järjestämään aikaa osallistua kolmannen viikon luennolle.\n",
    "\n",
    "Kokonaisuutena luentoviikko 2 pyrki syventämään ymmärrystä datan keräämiseen liittyvistä menetelmistä ja datan käsittelystä osana datatieteen / -analytiikan prosessia. Pintapuolisesti sivuttiin muun muassa ohjelmointirajapintojen (API) käyttöä datan keräämisessä, sekä joitain niiden käytössä ilmeneviä haasteita. Koodiklinikan puolella perehdyttiin tarkemmin raapijoiden käyttöön datan keräämisessä verkkosivustoilta.\n",
    "\n",
    "#### Ohjelmointirajapinnat datatieteessä\n",
    "\n",
    "Ohjelmointirajapinnat (API) ovat  mielestäni äärettömän kiinnostavia. Niiden kautta on lyhyellä koodipätkällä / scriptillä mahdollista päästä käsiksi valtaviin määriin dataa tai toisen tietokoneen laskentakykyä. Mielenkiintoani aihetta kohtaan kasvattaa yhä se, että tulevan kesätyöpaikkani, erään tamperelaisen start-up yrityksen kehittämä SaaS-ohjelmisto perustuu pitkälti ohjelmointirajapintojen hyödyntämiseen.\n",
    "\n",
    "API:t ovatkin mahdollistaneet aivan uudenlaisten liiketoimintamallien kehittämisen ja ns. datatalouden syntymisen. Skaalaetujen ja erikoistumisen tuomien kilpailuetujen vuoksi datan keräämisessä ja muokkaamisessa harjaantuneet yritykset voivat myydä dataansa rajapintojen kautta. Keskustellessani asiasta tulevan työnantajani kanssa he kertoivat vertailleensa erilaisia datan toimittajia, joista eräät saattoivat laskuttaa €250 k vuodessa heidän API:nsä käytöstä. Data vaikuttaa olevan yhä merkittävämpi resurssi monien yritysten liiketoiminnassa, minkä vuoksi sitä onkin karrikoiden kutsuttu \"nykypäivän öljyksi\"\n",
    "\n",
    "Miksi API:t sitten ovat käteviä datatieteen yhteydessä? Uskoakseni API:n luoma arvo perustuu pitkälti siihen, että ne mahdollistavat sellaisen tiedon saatavuuden, jonka kerääminen itse olisi hyvin vaikeaa tai jopa mahdotonta. Esimerkiksi väyläviraston avoimien rajapintojen kautta on mahdollista saada paikkatietoja vesialusten liikkumisesta Suomenlahdella. Tämän tiedon kerääminen vaikkapa kiikarien ja muistilehtiön avulla lienee huomattavasti tehottomampaa. Yksinkertaistettuna kyse lienee erikoistumisen tuomista eduista.\n",
    "\n",
    "#### Korvaako määrä laatua?\n",
    "\n",
    "Kuten todettua, ohjelmointirajapintojen kautta on mahdollista päästä käsiksi suuriin määriin dataa. On kuitenkin mahdollista, että rajapinnan avulla (tai vastaavasti monella muulla tavalla) kerätty data on laadultaan huonoa. Datan siirtämisen yhteydessä mahdollisesti ilmeneviä ongelmia ovat esimerkiksi datan puuttuminen, kahdenkertaisten arvojen esiintyminen, sekä dataformaattien vääristyminen.\n",
    "\n",
    "Laadulaan puutteellinen data on ongelmallista yksinkertaisesta syystä, joka usein tiivistetään seuraavasti - garbage in garbage out. Virheellisen / puutteellisen datan analysoiminen tuottaa virheellisiä päätelmiä, jotka edelleen johtavat virheellisiin liiketoimintaa koskeviin päätöksiin. Huonolaatuisesta datasta aiheutuvien kustannusten on arvioitu olevan Yhdysvalloissa $3.1 B vuosittain. Kuten edellä totesin, datan merkitys ja tarve tietoperusteiselle päätöksenteolle on monilla toimialoilla yhä suurempaa, mikä nähdäkseni luo yhä suurempaa tarvetta laadukkaalle datalle.\n",
    "\n",
    "Eräs luennolla esiin tullut aihe, joka osittain sivuaa havaintoa laadukkaan datan merkitystä, on smart datan käsite. Termin ollessa verrattain uusi sen määritelmät vaihtelevat, mutta yleisesti on kyse datasta, jonka korkea laatu varmistetaan jo sen \"alkulähteellä\", eli keräämisen yhteydessä. Ideana tämä tuntuu intuitiiviselta, sillä on selvää, että valtavien siivoamattomien datamassojen kerääminen ja liikuttelu kuluttaa rajallisisa resursseja, kuten tallennustilaa ja laskentatehoa. Muun muassa Etlan tutkimus pyrki selvittämään kasvavan dataliikenteen vaikutusta sähkönkulutukseen ja totesi raportissaan, että hyödynnettävien teknologioiden energiatehokkuus ei ole kasvanut datan kulutuksen kasvun tahdissa.\n",
    "\n",
    "#### Datan käsittelyn / putsaamisen merkityksestä\n",
    "\n",
    "Laadultaan huono data johtaa siis vääriin ja potentiaalisesti haitallisiin yrityksen liiketoimintaa koskeviin päätöksiin, sekä kuluttaa turhaan rajallisia resurssejamme. Lienee selvää, että nämä havainnot korostavat datan putsaamisen ja muuntamisen merkitystä osana datatieteen prosessia. Luentoviikon opetuksen yhteydessä esiteltiin joitain täsmällisempiä työvaiheita, jotka tähtäävät tarkasteltavan datan ymmärtämiseen ja laadun varmistamiseen. Tällaisia työvaiheita ovat ainakin datan ensitarkastelu esimerkikiksi erilaisten tilastollisten hajontalukujen tai nopeiden visualisointien avulla (ks. viime viikon koodidemo), sekä aineiston yhteensovittaminen (data wrangling).\n",
    "\n",
    "Vaikuttaakin siltä, että datan saattaminen keräysvaiheesta sen analysoimista varten valmiiseen muotoon on perin ekstensiivinen ja vaativa prosessi. Tätä havaintoa tukee myös luennolla esitetty \"80/20\" nyrkkisääntö (Pareton periaate), jonka mukaan datan kerääminen, putsaaminen ja järjestäminen vastaa 80 % koko prosessiin käytetystä ajasta. Mielenkiintoisena havaintona uskon kyseisen periaatteen pätevän myös esimerkiksi tämän oppimispäiväkirjan kirjoittamiseen - 80 % ajasta kuluu materiaalin lukemiseen ja tekstin sisällön / rakenteen suunnittelemiseen, 20 % itse tekstin tuottamiseen. \n",
    "\n",
    "https://vayla.fi/vaylista/aineistot/avoindata/rajapinnat\n",
    "\n",
    "https://www.owox.com/blog/articles/common-data-quality-issues-how-to-overcome/\n",
    "\n",
    "https://towardsdatascience.com/data-quality-garbage-in-garbage-out-df727030c5eb\n",
    "\n",
    "https://hbr.org/2016/09/bad-data-costs-the-u-s-3-trillion-per-year\n",
    "\n",
    "https://www.etla.fi/julkaisut/energy-and-electricity-consumption-of-the-information-economy-sector-in-finland/"
   ]
  },
  {
   "cell_type": "markdown",
   "id": "6319878b-bb07-447e-9016-635b8a262a04",
   "metadata": {},
   "source": [
    "#### Koodidemo - datan ensitarkastelua visualisoinnin keinoin\n",
    "\n",
    "Edellisen viikon koodidemon yhteydessä aloitin ecommerce-datasetin tarkastelun Pandas-komentojen avulla. Syvennytään tämän koodiviikon demossa yhä datan ensitarkasteluun, mutta kiinnitetään erityistä huomiota luentoviikolla käsiteltyihin aiheisiin (dataformaatit ja visualisointien hyödyntäminen datan tarkastelussa)."
   ]
  },
  {
   "cell_type": "code",
   "execution_count": 6,
   "id": "74a6916d-6f35-4bac-9384-d449e2a4e545",
   "metadata": {},
   "outputs": [],
   "source": [
    "# Ladataan ensin vaadittavat kirjastot\n",
    "import pandas as pd\n",
    "import matplotlib.pyplot as plot\n",
    "from matplotlib import style"
   ]
  },
  {
   "cell_type": "code",
   "execution_count": 3,
   "id": "301faf66-2714-49d1-85fc-a060ab7ef7f7",
   "metadata": {},
   "outputs": [
    {
     "name": "stdout",
     "output_type": "stream",
     "text": [
      "<class 'pandas.core.frame.DataFrame'>\n",
      "RangeIndex: 541909 entries, 0 to 541908\n",
      "Data columns (total 8 columns):\n",
      " #   Column       Non-Null Count   Dtype  \n",
      "---  ------       --------------   -----  \n",
      " 0   InvoiceNo    541909 non-null  object \n",
      " 1   StockCode    541909 non-null  object \n",
      " 2   Description  540455 non-null  object \n",
      " 3   Quantity     541909 non-null  int64  \n",
      " 4   InvoiceDate  541909 non-null  object \n",
      " 5   UnitPrice    541909 non-null  float64\n",
      " 6   CustomerID   406829 non-null  float64\n",
      " 7   Country      541909 non-null  object \n",
      "dtypes: float64(2), int64(1), object(5)\n",
      "memory usage: 33.1+ MB\n"
     ]
    }
   ],
   "source": [
    "# Aloitetaan tarkastelemalla datasetin sisältämiä datatyyppejä / -formaatteja.\n",
    "data.info()"
   ]
  },
  {
   "cell_type": "code",
   "execution_count": 216,
   "id": "f046525b-76c8-4dc7-aa0c-e92b11e0aa0c",
   "metadata": {},
   "outputs": [
    {
     "data": {
      "text/plain": [
       "InvoiceNo           0\n",
       "StockCode           0\n",
       "Description      1454\n",
       "Quantity            0\n",
       "InvoiceDate         0\n",
       "UnitPrice           0\n",
       "CustomerID     135080\n",
       "Country             0\n",
       "dtype: int64"
      ]
     },
     "execution_count": 216,
     "metadata": {},
     "output_type": "execute_result"
    }
   ],
   "source": [
    "# Huomataan, että monet ominaisuudet ovat dataformaatiltaan \"object\"-tyyppiä. Tämä saattaa johtua esimerkiksi siitä, että sarake sisältää monen tyyppistä dataa (esimerkiksi \"StockCode\" sisältää niin\n",
    "# kirjaimia kuin numeroitakin) tai koska se sisältää puuttuvia \"NaN\"-arvoja (esimerkiksi \"Description\"). Tarkistetaan vielä erikseen puuttuvien arvojen määrät sarakkeittain.\n",
    "data.isnull().sum()"
   ]
  },
  {
   "cell_type": "code",
   "execution_count": 224,
   "id": "aff95c0f-d817-4ee2-aee4-e7f31a01bb8d",
   "metadata": {},
   "outputs": [],
   "source": [
    "# Dataformaatteja voidaan tarvittaessa muuntaa tyypistä toiseen. Muunnetaan \"InvoiceDate\"-sarake object-formaatista date-time-formaattiin.\n",
    "data[\"InvoiceDate\"] =  pd.to_datetime(data[\"InvoiceDate\"])"
   ]
  },
  {
   "cell_type": "code",
   "execution_count": 2,
   "id": "c2a726bd-335e-4ded-b8a4-62206ffc9a50",
   "metadata": {},
   "outputs": [],
   "source": [
    "# Ladataan Pythonin matplotlib-kirjasto, jonka avulla voidaan luoda visualisointeja datasta.\n",
    "import matplotlib.pyplot as plt\n",
    "import numpy as np"
   ]
  },
  {
   "cell_type": "code",
   "execution_count": 66,
   "id": "cb014ce2-ab80-4e38-8fc4-2886ce3e6ca6",
   "metadata": {},
   "outputs": [
    {
     "data": {
      "text/html": [
       "<div>\n",
       "<style scoped>\n",
       "    .dataframe tbody tr th:only-of-type {\n",
       "        vertical-align: middle;\n",
       "    }\n",
       "\n",
       "    .dataframe tbody tr th {\n",
       "        vertical-align: top;\n",
       "    }\n",
       "\n",
       "    .dataframe thead th {\n",
       "        text-align: right;\n",
       "    }\n",
       "</style>\n",
       "<table border=\"1\" class=\"dataframe\">\n",
       "  <thead>\n",
       "    <tr style=\"text-align: right;\">\n",
       "      <th></th>\n",
       "      <th>CustomerID</th>\n",
       "      <th>TotalOrders</th>\n",
       "    </tr>\n",
       "  </thead>\n",
       "  <tbody>\n",
       "    <tr>\n",
       "      <th>0</th>\n",
       "      <td>12346.0</td>\n",
       "      <td>2</td>\n",
       "    </tr>\n",
       "    <tr>\n",
       "      <th>1</th>\n",
       "      <td>12347.0</td>\n",
       "      <td>7</td>\n",
       "    </tr>\n",
       "    <tr>\n",
       "      <th>2</th>\n",
       "      <td>12348.0</td>\n",
       "      <td>4</td>\n",
       "    </tr>\n",
       "    <tr>\n",
       "      <th>3</th>\n",
       "      <td>12349.0</td>\n",
       "      <td>1</td>\n",
       "    </tr>\n",
       "    <tr>\n",
       "      <th>4</th>\n",
       "      <td>12350.0</td>\n",
       "      <td>1</td>\n",
       "    </tr>\n",
       "  </tbody>\n",
       "</table>\n",
       "</div>"
      ],
      "text/plain": [
       "   CustomerID  TotalOrders\n",
       "0     12346.0            2\n",
       "1     12347.0            7\n",
       "2     12348.0            4\n",
       "3     12349.0            1\n",
       "4     12350.0            1"
      ]
     },
     "execution_count": 66,
     "metadata": {},
     "output_type": "execute_result"
    }
   ],
   "source": [
    "# Pyritään nopeiden visualisointien avulla hahmottamaan joitain datan ominaisuuksia.\n",
    "# Viikon 1 koodidemossa tarkasteltiin asiakkaiden tekemiä tilauksia ja koostettiin ne \"orders_by_customers\" dataframeen.\n",
    "orders_by_customer.head()"
   ]
  },
  {
   "cell_type": "code",
   "execution_count": 69,
   "id": "0be141e2-4b7d-49c3-8345-814dcb227165",
   "metadata": {},
   "outputs": [
    {
     "data": {
      "text/plain": [
       "Text(0, 0.5, 'Number of orders')"
      ]
     },
     "execution_count": 69,
     "metadata": {},
     "output_type": "execute_result"
    },
    {
     "data": {
      "image/png": "[encoded data removed]",
      "text/plain": [
       "<Figure size 1080x432 with 1 Axes>"
      ]
     },
     "metadata": {
      "needs_background": "light"
     },
     "output_type": "display_data"
    }
   ],
   "source": [
    "# Visualisoidaan tämä käyttäen hyväksi matplotlib-kirjastoa\n",
    "plt.subplots(figsize=(15,6))\n",
    "plt.plot(orders_by_customer.CustomerID, orders_by_customer.TotalOrders)\n",
    "plt.xlabel(\"Customers (CustomerID)\")\n",
    "plt.ylabel(\"Number of orders\")"
   ]
  },
  {
   "cell_type": "code",
   "execution_count": 242,
   "id": "0fa8679c-5501-4de1-bcfa-62b0f0734c0c",
   "metadata": {},
   "outputs": [
    {
     "data": {
      "text/plain": [
       "-11062.06"
      ]
     },
     "execution_count": 242,
     "metadata": {},
     "output_type": "execute_result"
    }
   ],
   "source": [
    "# Tarkastellaan seuraavaksi lähemmin tuotteita. Miten halvin on halvin tuote?\n",
    "min(data.UnitPrice)"
   ]
  },
  {
   "cell_type": "code",
   "execution_count": 244,
   "id": "0676de8b-75fb-4cb0-addd-17a1d16a65c7",
   "metadata": {},
   "outputs": [
    {
     "data": {
      "text/plain": [
       "38970.0"
      ]
     },
     "execution_count": 244,
     "metadata": {},
     "output_type": "execute_result"
    }
   ],
   "source": [
    "# Miten kallis on kallein tuote?\n",
    "max(data.UnitPrice)"
   ]
  },
  {
   "cell_type": "code",
   "execution_count": 301,
   "id": "fbae658b-6068-4506-ade7-826b891d6e60",
   "metadata": {},
   "outputs": [
    {
     "data": {
      "text/plain": [
       "count    541909.000000\n",
       "mean          4.053874\n",
       "std          96.760354\n",
       "min      -11062.000000\n",
       "25%           1.000000\n",
       "50%           2.000000\n",
       "75%           4.000000\n",
       "max       38970.000000\n",
       "Name: UnitPrice, dtype: float64"
      ]
     },
     "execution_count": 301,
     "metadata": {},
     "output_type": "execute_result"
    }
   ],
   "source": [
    "data[\"UnitPrice\"].describe()"
   ]
  },
  {
   "cell_type": "code",
   "execution_count": 309,
   "id": "12180a81-4adf-4d14-ad9f-c1b7a473b85f",
   "metadata": {},
   "outputs": [
    {
     "data": {
      "text/plain": [
       "<pandas.core.groupby.generic.DataFrameGroupBy object at 0x000002371378DC90>"
      ]
     },
     "execution_count": 309,
     "metadata": {},
     "output_type": "execute_result"
    }
   ],
   "source": [
    "unique_products = data.groupby(by=\"StockCode\", as_index=False)[\"UnitPrice\"]\n",
    "unique_products"
   ]
  },
  {
   "cell_type": "code",
   "execution_count": 310,
   "id": "ac30d941-894f-4e81-938f-1a1fc3a8c399",
   "metadata": {},
   "outputs": [
    {
     "data": {
      "text/plain": [
       "(array([5.4049e+05, 3.8000e+02, 2.4300e+02, 2.3200e+02, 1.3200e+02,\n",
       "        7.6000e+01, 3.5000e+01, 2.0000e+01, 1.7000e+01, 2.7000e+01,\n",
       "        2.0000e+01, 2.6000e+01, 2.4000e+01, 8.0000e+00, 1.3000e+01,\n",
       "        5.0000e+00, 9.0000e+00, 1.6000e+01, 1.0000e+01, 4.0000e+00,\n",
       "        5.0000e+00, 2.0000e+00, 9.0000e+00, 2.0000e+00, 8.0000e+00,\n",
       "        5.0000e+00, 1.0000e+00, 0.0000e+00, 1.0000e+00, 2.0000e+00,\n",
       "        2.0000e+00, 6.0000e+00, 0.0000e+00, 5.0000e+00, 2.0000e+00,\n",
       "        0.0000e+00, 1.0000e+00, 3.0000e+00, 2.0000e+00, 0.0000e+00,\n",
       "        3.0000e+00, 2.0000e+00, 3.0000e+00, 2.0000e+00, 0.0000e+00,\n",
       "        1.0000e+00, 0.0000e+00, 2.0000e+00, 0.0000e+00, 0.0000e+00,\n",
       "        1.0000e+00, 2.0000e+00, 0.0000e+00, 2.0000e+00, 0.0000e+00,\n",
       "        0.0000e+00, 0.0000e+00, 0.0000e+00, 0.0000e+00, 0.0000e+00,\n",
       "        0.0000e+00, 1.0000e+00, 0.0000e+00, 2.0000e+00, 0.0000e+00,\n",
       "        0.0000e+00, 0.0000e+00, 0.0000e+00, 0.0000e+00, 0.0000e+00,\n",
       "        0.0000e+00, 0.0000e+00, 0.0000e+00, 0.0000e+00, 0.0000e+00,\n",
       "        0.0000e+00, 0.0000e+00, 0.0000e+00, 2.0000e+00, 0.0000e+00,\n",
       "        0.0000e+00, 0.0000e+00, 0.0000e+00, 3.0000e+00, 0.0000e+00,\n",
       "        2.0000e+00, 0.0000e+00, 1.0000e+00, 0.0000e+00, 0.0000e+00,\n",
       "        3.0000e+00, 1.0000e+00, 0.0000e+00, 0.0000e+00, 0.0000e+00,\n",
       "        0.0000e+00, 0.0000e+00, 0.0000e+00, 0.0000e+00]),\n",
       " array([   0,   50,  100,  150,  200,  250,  300,  350,  400,  450,  500,\n",
       "         550,  600,  650,  700,  750,  800,  850,  900,  950, 1000, 1050,\n",
       "        1100, 1150, 1200, 1250, 1300, 1350, 1400, 1450, 1500, 1550, 1600,\n",
       "        1650, 1700, 1750, 1800, 1850, 1900, 1950, 2000, 2050, 2100, 2150,\n",
       "        2200, 2250, 2300, 2350, 2400, 2450, 2500, 2550, 2600, 2650, 2700,\n",
       "        2750, 2800, 2850, 2900, 2950, 3000, 3050, 3100, 3150, 3200, 3250,\n",
       "        3300, 3350, 3400, 3450, 3500, 3550, 3600, 3650, 3700, 3750, 3800,\n",
       "        3850, 3900, 3950, 4000, 4050, 4100, 4150, 4200, 4250, 4300, 4350,\n",
       "        4400, 4450, 4500, 4550, 4600, 4650, 4700, 4750, 4800, 4850, 4900,\n",
       "        4950]),\n",
       " <BarContainer object of 99 artists>)"
      ]
     },
     "execution_count": 310,
     "metadata": {},
     "output_type": "execute_result"
    },
    {
     "data": {
      "image/png": "[encoded data removed]",
      "text/plain": [
       "<Figure size 1080x432 with 1 Axes>"
      ]
     },
     "metadata": {
      "needs_background": "light"
     },
     "output_type": "display_data"
    }
   ],
   "source": [
    "# Miten tuotteiden hinnat ovat jakautuneet? Valitaan tarkastelun ylärajaksi €5000\n",
    "plt.figure(figsize=(15,6))\n",
    "plt.title(\"Transaction price distribution\")\n",
    "plt.xlabel(\"Price\")\n",
    "plt.ylabel(\"Number of transactions\")\n",
    "plt.yscale(\"log\")\n",
    "plt.hist(data.UnitPrice, bins=np.arange(0,5000,50), color=\"purple\", rwidth=0.9)"
   ]
  },
  {
   "cell_type": "markdown",
   "id": "371435e2-9e72-49ec-bc39-d6a392ef70b8",
   "metadata": {},
   "source": [
    "#### Opittua\n",
    "\n",
    "1) Datan kerääminen ja valmisteleminen (putsaaminen, muuntaminen oikeaan muotoon, jne.) analyysia varten vaatii usein merkittävimmän osan työstä. (Pareto-sääntö, 80 / 20)\n",
    "1) Dataa on saatavilla eri lähteistä (API:t, verkkosivut ruudunraavinnan keinoin, jne.) helpommin ja runsaammin kuin koskaan ennen. Tämä korostaa oikean datan keräämisen ja tehokkan putsaamisen merkitystä osana datatiedeprosessia.\n",
    "3) Garbage in, garbage out -periaate korostaa laadukkaan datan merkitystä entisestään - datan ollessa luokatonta ovat sen analysoinnista tehdyt päätelmätkin luokattomia.\n",
    "4) Datan visualisointi voi autttaa sen jalostamisessa esimerkiksi muuttujien jakaumien hahmottamisen osalta.\n",
    "4) Pythonin Matplotlib-kirjasto on loistava työkalu nopeiden kuvaajien piirtämisessä\n",
    "\n",
    "#### Kehitysideoita luentoviikolle\n",
    "\n",
    "1) Ruudunraapijan toteuttaminen alusta saakka ja prosessin yksityiskohtaisempi kuvailu (toki ajan puitteissa) olisi ollut itselleni tarpeen, jotta olisin paremmin ymmärtänyt raapijan toimintaperiaatteita."
   ]
  },
  {
   "cell_type": "markdown",
   "id": "d0577190-6563-4edd-bb3a-929931f62ffb",
   "metadata": {
    "tags": []
   },
   "source": [
    "# Luentoviikko 3\n",
    "\n",
    "Kuten itselleni edellisellä viikolla lupasin, osallistuin kolmannen luentoviikon opetukseen paikan päällä! Luennon aikana käsiteltiin koneoppimisen perusteita, erilaisten koneoppimismenetelmien / -algoritmien luokittelua, sekä pohdittiin koneoppimisen onnistuneen soveltamisen edellytyksiä.\n",
    "\n",
    "#### Kohinaa vai arvoa tuottavaa liiketoimintaa?\n",
    "\n",
    "Luennollakin esitetty havainto tekoäly (AI) -käsitteen viljelemisestä osana yrityksen liiketoimintamallin kuvausta tuo mieleeni 2000-luvun alussa puhjenneen IT-kuplan. Anekdootit kertovat suomalaisen internet-huuman alkuajoista, jolloin 90-luuvn lopun nopea talouskasvu yhditettynä uuteen käänteentekevään teknologiaan lupasivat loputtomia tuottomahdollisuuksia. Monet yritykset käyttivätkin hyödykseen tulikuumaa markkinaa, jossa yritysten joiden etuliiteenä oli e- tai www- katsottiin olevan kullanarvoisia. Aivan näin ei kuitenkaan käynyt - kuplan puhettua teknologiaosakkeiden arvosta hävisi 80-100% (Sijoittaja, 2019)\n",
    "\n",
    "Tämän opettavaisen historiallisen esimerkin valossa lienee mielekästä pyrkiä muodostamaan realistisempi kuva koneoppimisen mahdollisuuksista tehostaa nykyistä liiketoimintaa ja luoda uusia liiketoimintamalleja. Realistisen kuvan saavuttamiseksi on oleellista pohtia, mitkä tekijät mahdollisesti rajoittavat koneoppimisen - erityisesti luentoviikolla käsitellyn ohjatun oppimisen - hyödyntämistä osana yritysten liiketoimintaa.\n",
    "\n",
    "Eräänä ohjatun oppimisen merkittävimpänä rajoitteena voitaneen pitää (useimmiten) ihmisen manuaalisen työn ja tuntemuksen merkittävää roolia osana koneoppimisen prosessia. Ensinnäkin, ohjatun oppimisen tehokas hyödyntäminen ongelman ratkaisussa vaatii usein syvällistä ymmärrystä käsiteltävästä datasta tai kyseisestä toimialasta. Ns. domain knowledge:n merkitys korostuu, sillä datan piirteiden valinta ja / tai rakentaminen (feature engineering) on tehtävä manuaalisesti. Tämä vaatii kontekstisidonnaista ymmärrystä ja ennakkokäsitystä siitä, mitkä piirteet / mittarit voisivat olla oleellisia. Toisaalta ohjatun oppimisen yhteydessä vaadittava inhimillinen tulkinta ja harkinta voidaan nähdä myös hyötynä, mikäli on oleellista ymmärtää, miksi jokin ratkaisu on oikea tai miten siihen on päädytty. Eettistä lähestymistapaa vaativat toimialat kuten vaikkapa lääketiede tai hoiva-ala eivät varmastikaan voi nojata päätöksenteossaan yksinomaan algoritmiin, jonka päätöksentekoa ei kyetä ymmärtämään (esim. ohjaamaton oppiminen).\n",
    "\n",
    "Ohjatun oppimisen soveltamisen haasteet ja rajoitteet liittyvät ihmisen tekemän manuaalisen työn ja käyttämän harkinnan tarpeeseen. Ohjatussa oppimisessa käytettävää dataa on valmisteltava ekstensiivisesti, sillä algoritmin antama ulostulo on luonnollisesti täydellisen riippuvainen sille syötetystä datasta. Erityisesti luokitteluongelmissa (esimerkiksi konenäkö, kielen- tai äänentunnistus) mallin opettamiseen käytettävän datan luokittelu on manuaalista ja aikaa vievää työtä, mikä luonnollisesti vähentää sen liiketoimintapotentiaalia. Tämän vuoksi eräs suomalainen asiakastiedon hallintaan erikoistunut yritys päätyi käyttämään vankeja algoritminsa kouluttamiseen käytettävän datan luokittelussa (Verge, 2019). Algoritmien opettamiseen käyettävälle laadukkaalle datalle on niin suuri tarve, että dataa kerääviä ja valmistelevia yrityksiä on muodostunut täyttämään tätä kysyntää. Algoritmille syötettävän datan valikointi on myös täysin ihmisen harkinnan varassa, mikä saattaa vääristää mallin tarkkuutta tai opettaa sen toimimaan vain hyvin spesifeissä olosuhteissa.\n",
    "\n",
    "#### Koneoppimisen sovelluksista\n",
    "\n",
    "Edellisen perusteella lienee selvää, että koneoppimisen soveltamisessa on selkeitä haasteita, jotka rajoittavat sen soveltamista osana liiketoimintaa. Nyt kun olemme madaltaneet odotuksia riittävästi, lienee sopivaa pohtia, kuinka koneoppimista (jälleen, erityisesti ohjattua oppimista) sitten voitaisiin hyödyntää. Mielestäni koneoppimisen sovelluskohteet voidaan niiden roolin mukaan jakaa kahteen luokkaan:\n",
    "\n",
    "1) Liiketoiminnan osa (Operatiiivinen)\n",
    "\n",
    "Koneoppiminen-termi on hyvin kuvaava käsite - kone (algoritmi) oppii (opetetaan) jonkin sille opetetun tehtävän tai osakokokaisuuden, esimerkikisi asunnon hinnan määrityksen tai kasvaimen tunnistamisen kuvasta. Kumpikin näistä tehtävistä vaatii ihmiseltä eksplisiittistä ajattelutyötä ja analyysin suorittamista, joka on lisäksi mahdollisesti virheellinen. Kun algoritmi sitten onnistuneesti implementoidaan osaksi yrityksen liiketoimintaa, lienee selvää, että saadaan aikaan tuottavuuden kasvua. Algoritmin opittua esimerkiksi lainapäätöksen tekemisen, auton ajamisen, tai oikeusasiakirjojen läpikäynnin, voidaan liiketoimintaa tehostaa huomattavasti. Jo taloustieteen peruskurssin käyneenä on helppo ymmärtää, että tuottavuuden kasvu voidaan nähdä taloudellisen kasvun perimmäisenä ja kestävimpänä ajurina. Tämän kaltainen laajamittainen ja onnistunut koneoppimisen hyödyntäminen eri toimialoilla voisi olla lähimpänä AI/ML-trendin lupaamia pysyvästi korkeampia voittoja (ja tällä tavoin osakkeen arvostustasoja).\n",
    "\n",
    "2) Liiketoiminnan suunnittelu (Strateginen)\n",
    "\n",
    "Koneoppimista voitaneen hyödyntää paitsi osana liiketoiminnan operatiivista toimintaa, myös liiketoiminann suunnittelussa. Koneoppimisen keinoin lienee mahdollista tuottaa entistä kattavampia ja tarkempia tietotuotteita yrityksen päätöksenteon tueksi. Algoritmien kykyä käsitellä valtavia datamassoja ja löytää siitä trendejä tai toistuvia kuvioita ovat ominaisuuksia, joilla voitaneen tuottaa esimerkiksi laadukkaampia markkina-analyyseja. Uskoisin, että koneoppimista on helpompi soveltaa liiketoiminnan suunnittelun kenties kertaluontoisemmalla / irrallisemmalla tasolla verrattuna sen integrointiin osaksi operatiivista toimintaa esimerkiksi tuotanto-ohjelmoinnin kautta. Tämän vuoksi uskon, että koneoppimisen malleja (esimerkiksi lineaarista regressiota) hyödynntetäänkin laajalti strategisen tason päätöksenteon tukena. Liiketoiminnan (pitkän aikavälin) suunnittelun sovelluskohteilla lienee kuitenkin rajatumpi potentiaali esimerkiksi tuottavuuden kasvattamisessa, minkä vuoksi en näkisi niitä yhtä lupaavina AI/ML-trendin lupausten lunastajina.\n",
    "\n",
    "https://www.sijoittaja.fi/144229/osakemarkkinoiden-kaksi-vuosikymmenta-poimi-tarkeimmat-opit/\n",
    "\n",
    "https://www.theverge.com/2019/3/28/18285572/prison-labor-finland-artificial-intelligence-data-tagging-vainu\n",
    "\n",
    "https://www.filecloud.com/blog/2018/06/top-5-limitations-of-machine-learning-in-an-enterprise-setting/#.YkVMCShBwcE"
   ]
  },
  {
   "cell_type": "markdown",
   "id": "ed213cba-360e-4cce-b97e-b623ce722b68",
   "metadata": {},
   "source": [
    "#### Koodidemo - ohjattu oppiminen\n",
    "\n",
    "Koneoppiminen on aihealueena hyvin laaja ja sen syvällinen ymmärtäminen vaatisikin perehtymistä muun muassa algoritmien taustalla olevaan matematiikkaan. Python-kirjastot kuten sklearn kuitenkin mahdollistavat koneoppimisen mallien hyödyntämisen asiaan syvällisesti vihkiytymättömillekin. Pyritään seuraavassa koodidemossa ennustamaan matkustajien eloonjäämistä Titanic-laivalla."
   ]
  },
  {
   "cell_type": "code",
   "execution_count": 66,
   "id": "c178e82c-a4d6-437f-8e63-d70fd9e74da7",
   "metadata": {
    "tags": [
     "hide-input"
    ]
   },
   "outputs": [
    {
     "name": "stdout",
     "output_type": "stream",
     "text": [
      "titanic.zip: Skipping, found more recently modified local copy (use --force to force download)\n"
     ]
    }
   ],
   "source": [
    "# Ladataan \"Titanic\"-datasetti Kaggle API:n avulla\n",
    "!kaggle competitions download -c titanic\n",
    "import zipfile\n",
    "\n",
    "# Määritellään avattava tiedosto ja avatun tiedoston sijoitus\n",
    "file_to_unzip = \"titanic.zip\"\n",
    "directory_to_extract_to = r\"C:\\Users\\Omistaja\\JODA_2022\\datasets\"\n",
    "\n",
    "# Avataan .zip-tiedosto ZipFile-funktiolla\n",
    "with zipfile.ZipFile(file_to_unzip, 'r') as zip_ref:\n",
    "    zip_ref.extractall(directory_to_extract_to)"
   ]
  },
  {
   "cell_type": "code",
   "execution_count": 67,
   "id": "2ddb5cd8-cb15-49dd-a5eb-e31b3d776601",
   "metadata": {},
   "outputs": [],
   "source": [
    "# Ladataan hyödynnettävät kirjastot\n",
    "import pandas as pd\n",
    "import numpy as np\n",
    "from sklearn import metrics\n",
    "from sklearn.ensemble import RandomForestClassifier"
   ]
  },
  {
   "cell_type": "code",
   "execution_count": 54,
   "id": "3610c115-17c2-4e6a-b35b-aeb704f40a4e",
   "metadata": {},
   "outputs": [],
   "source": [
    "# Käytettävä data on jaoteltu valmiiksi opetus-ja testidataan\n",
    "titanic_train = pd.read_csv(\"datasets/train.csv\")\n",
    "titanic_test = pd.read_csv(\"datasets/test.csv\")"
   ]
  },
  {
   "cell_type": "code",
   "execution_count": 55,
   "id": "7c857db6-49a5-4593-9b95-0fc7944dd622",
   "metadata": {
    "tags": []
   },
   "outputs": [
    {
     "data": {
      "text/html": [
       "<div>\n",
       "<style scoped>\n",
       "    .dataframe tbody tr th:only-of-type {\n",
       "        vertical-align: middle;\n",
       "    }\n",
       "\n",
       "    .dataframe tbody tr th {\n",
       "        vertical-align: top;\n",
       "    }\n",
       "\n",
       "    .dataframe thead th {\n",
       "        text-align: right;\n",
       "    }\n",
       "</style>\n",
       "<table border=\"1\" class=\"dataframe\">\n",
       "  <thead>\n",
       "    <tr style=\"text-align: right;\">\n",
       "      <th></th>\n",
       "      <th>PassengerId</th>\n",
       "      <th>Survived</th>\n",
       "      <th>Pclass</th>\n",
       "      <th>Name</th>\n",
       "      <th>Sex</th>\n",
       "      <th>Age</th>\n",
       "      <th>SibSp</th>\n",
       "      <th>Parch</th>\n",
       "      <th>Ticket</th>\n",
       "      <th>Fare</th>\n",
       "      <th>Cabin</th>\n",
       "      <th>Embarked</th>\n",
       "    </tr>\n",
       "  </thead>\n",
       "  <tbody>\n",
       "    <tr>\n",
       "      <th>0</th>\n",
       "      <td>1</td>\n",
       "      <td>0</td>\n",
       "      <td>3</td>\n",
       "      <td>Braund, Mr. Owen Harris</td>\n",
       "      <td>male</td>\n",
       "      <td>22.0</td>\n",
       "      <td>1</td>\n",
       "      <td>0</td>\n",
       "      <td>A/5 21171</td>\n",
       "      <td>7.2500</td>\n",
       "      <td>NaN</td>\n",
       "      <td>S</td>\n",
       "    </tr>\n",
       "    <tr>\n",
       "      <th>1</th>\n",
       "      <td>2</td>\n",
       "      <td>1</td>\n",
       "      <td>1</td>\n",
       "      <td>Cumings, Mrs. John Bradley (Florence Briggs Th...</td>\n",
       "      <td>female</td>\n",
       "      <td>38.0</td>\n",
       "      <td>1</td>\n",
       "      <td>0</td>\n",
       "      <td>PC 17599</td>\n",
       "      <td>71.2833</td>\n",
       "      <td>C85</td>\n",
       "      <td>C</td>\n",
       "    </tr>\n",
       "    <tr>\n",
       "      <th>2</th>\n",
       "      <td>3</td>\n",
       "      <td>1</td>\n",
       "      <td>3</td>\n",
       "      <td>Heikkinen, Miss. Laina</td>\n",
       "      <td>female</td>\n",
       "      <td>26.0</td>\n",
       "      <td>0</td>\n",
       "      <td>0</td>\n",
       "      <td>STON/O2. 3101282</td>\n",
       "      <td>7.9250</td>\n",
       "      <td>NaN</td>\n",
       "      <td>S</td>\n",
       "    </tr>\n",
       "    <tr>\n",
       "      <th>3</th>\n",
       "      <td>4</td>\n",
       "      <td>1</td>\n",
       "      <td>1</td>\n",
       "      <td>Futrelle, Mrs. Jacques Heath (Lily May Peel)</td>\n",
       "      <td>female</td>\n",
       "      <td>35.0</td>\n",
       "      <td>1</td>\n",
       "      <td>0</td>\n",
       "      <td>113803</td>\n",
       "      <td>53.1000</td>\n",
       "      <td>C123</td>\n",
       "      <td>S</td>\n",
       "    </tr>\n",
       "    <tr>\n",
       "      <th>4</th>\n",
       "      <td>5</td>\n",
       "      <td>0</td>\n",
       "      <td>3</td>\n",
       "      <td>Allen, Mr. William Henry</td>\n",
       "      <td>male</td>\n",
       "      <td>35.0</td>\n",
       "      <td>0</td>\n",
       "      <td>0</td>\n",
       "      <td>373450</td>\n",
       "      <td>8.0500</td>\n",
       "      <td>NaN</td>\n",
       "      <td>S</td>\n",
       "    </tr>\n",
       "  </tbody>\n",
       "</table>\n",
       "</div>"
      ],
      "text/plain": [
       "   PassengerId  Survived  Pclass  \\\n",
       "0            1         0       3   \n",
       "1            2         1       1   \n",
       "2            3         1       3   \n",
       "3            4         1       1   \n",
       "4            5         0       3   \n",
       "\n",
       "                                                Name     Sex   Age  SibSp  \\\n",
       "0                            Braund, Mr. Owen Harris    male  22.0      1   \n",
       "1  Cumings, Mrs. John Bradley (Florence Briggs Th...  female  38.0      1   \n",
       "2                             Heikkinen, Miss. Laina  female  26.0      0   \n",
       "3       Futrelle, Mrs. Jacques Heath (Lily May Peel)  female  35.0      1   \n",
       "4                           Allen, Mr. William Henry    male  35.0      0   \n",
       "\n",
       "   Parch            Ticket     Fare Cabin Embarked  \n",
       "0      0         A/5 21171   7.2500   NaN        S  \n",
       "1      0          PC 17599  71.2833   C85        C  \n",
       "2      0  STON/O2. 3101282   7.9250   NaN        S  \n",
       "3      0            113803  53.1000  C123        S  \n",
       "4      0            373450   8.0500   NaN        S  "
      ]
     },
     "execution_count": 55,
     "metadata": {},
     "output_type": "execute_result"
    }
   ],
   "source": [
    "titanic_train.head()"
   ]
  },
  {
   "cell_type": "code",
   "execution_count": 56,
   "id": "f5be15a5-5e1b-44a6-98bb-9378e7142e91",
   "metadata": {},
   "outputs": [],
   "source": [
    "# Pyritään matkustajan tietoja hyväksi käyttäen ennustamaan, selvisikö vai kuoliko hän Titanicilla. Kyseessä on siis luokitteluongelma (0, 1).\n",
    "# Hyödynnetään luokittelussa sklearn-kirjaston random forest -luokittelijaa. Käytetään luokittelussa vain matkustajan luokkaa ja sukupuolta. "
   ]
  },
  {
   "cell_type": "code",
   "execution_count": 57,
   "id": "2ba41640-9de3-488e-b8bc-b83fb076c7ac",
   "metadata": {},
   "outputs": [],
   "source": [
    "# Poimitaan ulostulot opetusdatasta\n",
    "y_train = titanic_train[\"Survived\"]\n",
    "# Valitaan ominaisuudet, joiden avulla ulostuloa pyritään ennustamaan. Pudotetaan muut muuttujat / ominaisuudet mallista\n",
    "# Tehdään lisäksi mallista lukukelpoinen koodaamalla kategoriset muuttujat binäärisiksi.\n",
    "features = [\"Pclass\", \"Sex\"]\n",
    "X_train = pd.get_dummies(titanic_train[features])\n",
    "X_test = pd.get_dummies(titanic_test[features])"
   ]
  },
  {
   "cell_type": "code",
   "execution_count": 59,
   "id": "b7fb0f3f-501b-4928-abd7-9afe1d5f1425",
   "metadata": {},
   "outputs": [
    {
     "data": {
      "text/plain": [
       "RandomForestClassifier(max_depth=5, random_state=1)"
      ]
     },
     "execution_count": 59,
     "metadata": {},
     "output_type": "execute_result"
    }
   ],
   "source": [
    "# Alustetaan malli / luokittelija\n",
    "model = RandomForestClassifier(n_estimators=100, max_depth=5, random_state=1)\n",
    "# Opetetaan malli käyttäen opetusdataa\n",
    "model.fit(X_train, y_train)"
   ]
  },
  {
   "cell_type": "code",
   "execution_count": 60,
   "id": "210cca3e-7901-466d-8fbc-bc0063e69026",
   "metadata": {},
   "outputs": [],
   "source": [
    "# Ennustetaan sitten matkustajien kohtaloita testidatan perusteella\n",
    "predictions = model.predict(X_test)\n",
    "# Tallennetaan tulokset Pandas-dataframeen\n",
    "output = pd.DataFrame({\"PassengerId\" : titanic_test[\"PassengerId\"], \"Surived\" : predictions})"
   ]
  },
  {
   "cell_type": "code",
   "execution_count": 64,
   "id": "dacaa674-1239-4480-b41f-1f9dbe976c78",
   "metadata": {},
   "outputs": [
    {
     "data": {
      "text/plain": [
       "0.7867564534231201"
      ]
     },
     "execution_count": 64,
     "metadata": {},
     "output_type": "execute_result"
    }
   ],
   "source": [
    "# Tutkitaan vielä mallin tarkkuutta pikaisesti harjoitteludatan avulla\n",
    "y_train_pred = model.predict(X_train)\n",
    "metrics.accuracy_score(y_train, y_train_pred)"
   ]
  },
  {
   "cell_type": "code",
   "execution_count": null,
   "id": "9b064296-1281-478c-9546-840d8d0a5bf7",
   "metadata": {},
   "outputs": [],
   "source": [
    "# Melko vaatimattomalla mallilla (Vain 2 muuttujaa, luokka ja sukupuoli) päästiiin lähes 80% ennustetarkkuuteen."
   ]
  },
  {
   "cell_type": "markdown",
   "id": "f48c6a3c-3207-418b-8abc-564105f80433",
   "metadata": {},
   "source": [
    "#### Opittua\n",
    "\n",
    "1) Ohjatun oppimisen soveltaminen vaatii aineiston ekstensiivistä valmistelua ennen kaikkea piirteiden erottamisen ja ulostulojen luokittelun osalta.\n",
    "2) Ennustettavan muuttujaan / ulostuloon vaikuttavien tekijöiden tunnistaminen ja tätä kautta piirteiden erottaminen korostaa datan ja toimialan syvällistä ymmärrystä (domain knowledge)\n",
    "3) Datan piirteiden valinnan lisäksi mallin paramtetrien säätäminen vaatii asiantuntijan näkemystä, mikä saattaa vääristää lopputulosta (esimerkiksi over- / underfitting)\n",
    "4) Datan luokittelu ohajttua koneoppimista varten on työlästä (esimerkiksi konenäön, kielen- tai äänentunnistuksen yhteydessä) ja toimii merkittävänä pullonkaulana ohjatun oppimisen hyödyntämiselle\n",
    "5) Datan ollessa laadukasta ja oikean algoritmin löytyessä ohjatulla oppimisella voidaan saavuttaa merkittävän tarkkoja ennusteita (koodidemo)\n",
    "\n",
    "#### Kehitysideoita luentoviikolle\n",
    "\n",
    "1) Luentojärjestyksessä esittäisin koneoppimisen (ja ohjatun oppimisen) vasta myöhemmin samoihin aikoihin kuin ohjaamattoman oppimisen. Mielestäni visuaalinen analytiikka etenkin sen datatiedeprosessin aikaisen hyödyntämisen osalta sopisi loistavasti luentoviikon 2 (datan kerääminen ja jalostaminen perään)"
   ]
  },
  {
   "cell_type": "markdown",
   "id": "7dc6647e-f4a0-492b-aca6-d0eaf66d155a",
   "metadata": {},
   "source": [
    "# Luentoviikko 4\n",
    "\n",
    "Luentoviikolla 4 syvennyttiin harjoitystyön aiheen ja työmenetelmien pohtimiseen. Opetustilaisuudessa (johon ehdin jälleen paikalle) pyrittiin harjoittelemaan liiketoiminta- / ongelmalähtöistä ongelman ratkaisua ja tällä tavoin luomaan edellytyksiä harjoitustyön aiheen valinnalle. Koodiklinikan puolella jatkettiin datan käsittelemiseen ja muuntamiseen tutustumista, sekä perehdyttiin lineaariseen regressioon jatkuvan muuttujan ennustamisessa.\n",
    "\n",
    "#### Harjoitustyön pohdintaa\n",
    "\n",
    "Harjoitustyön eräänä keskeisimpänä kriteerinä on mainittu juuri sen ongelmalähtöisyys. Uskoisin, että tuotantotalouden opiskelijana ja teknistaloudelliseen ajattelutavan (ainakin osin) omaksuneena, edellä kuvattu ongelmakeskeisyys tai liiketoimintarelevanssi (vrt. datan tutkiminen tutkimisen ilosta) on melko luonteva tapa ongelman lähestymiseen.\n",
    "\n",
    "Olin kuitenkin jossain määrin yllättynyt ongelmalähtöisyyden painotuksesta harjoitustyön yhteydessä. Aikaisemman käsitykseni pohjalta olinkin siinä uskossa, että datatieteilijän rooli olisi luonteeltaan vapaampi, \"ekploratiivisempi\" ja \"data-orientoitunut\" verrattuna muihin datasta liiketoiminta-arvoa jalostaviin, \"business-orientoituneisiin\" rooleihin (esimerkiksi data-analyst, business analyst jne.). Virginian yliopiston määäritelmän mukaan data-analyytikoilla on usein enemmän kokemusta liiketoiminnasta, kun taas datatieteilijöillä on kehittyneemmät tekniset taidot. \n",
    "\n",
    "Lienee selvää, että juuri opiskelemallamme JODA-kurssilla on vastaavasti erilaisilla taustoilla ja kyvykkyyksillä varustettuja opiskelijoita. Esimerkiksi tietotekniikkaa tai tietojohtamisen teknistä laitaa opiskelleilla tekniset taidot korostuvat, kunt taas esimerkiksi tuotantotalouden opiskelijoilla saattaa olla parempi ymmärrys jonkin aspektin liiketoimintarelevanssista yms. Tämän vuoksi saattaisikin olla mielekästä toteuttaa kurssin harjoitustyö esimerkiksi 3-4 henkilön \"projektitiimeissä\", joissa voisi olla erilaisia rooleja \"business-technical\" -spektriltä (business-analyytikoista devaajiin).\n",
    "\n",
    "#### Aiheesta\n",
    "\n",
    "Opetusviikon live-luento tarjosi aineksia oman harjoitustyön aiheen pohdintaan. Erityisesti mieleeni jäi ajatus siitä, että harjoitustyö on potentiaalisesti loistava tilaisuus tuoda esille omia mielenkiinnon kohteitaan ja osoittaa osaamistaan aiheen ympäriltä esimerkiksi tuleville työnantajille. Nykyisessä vaiheessa opintojani minua kiinnostaisi kartuttaa kokemusta rahoitusalalta, erityisesti pääomasijoitustoiminnasta. Tämän vuoksi olen kiinnostunut perehtymään analytiikan mahdollisuuksiin kyseisellä toimialalla ja sivuamaan aihetta harjoitustyössäni. Julkisen tiedon saatavuuden vuoksi pörssiyritysten tutkiminen lienee kuitenkin harjoitustyön yhteydessä realistisempaa.\n",
    "\n",
    "https://datascience.virginia.edu/news/what-difference-between-data-science-and-data-analytics"
   ]
  },
  {
   "cell_type": "markdown",
   "id": "b7d82ea4-03aa-41f0-8cd1-77bb7c30b2c2",
   "metadata": {},
   "source": [
    "#### Koodidemo - lineaarinen regressio\n",
    "\n",
    "Koodiklinikan yhteydessä tutustuttiin lineaariseen regressioon. Lineaarisen regression merkittävimpiä etuja lienee sen ulostulon / tuloksien helppo ja intuitiivinen tulkinta - mallin selitystaste ja tilastollinen merkitsevyys kertovat selkeästi, ovatko tutkitut tekijät (independent variables) yhteydessä ennustettavaan tekijään (dependant variable).\n",
    "\n",
    "Palataan jälleen tarkastelemaan ecommerce-datasettiä. Pyritään ennustamaan asiakkaan kokonaismyyntiä vaikkapa asiakkaan vierailujen lukumäärällä ja yhden tilauksen keskimääräisellä tuotemäärällä.\n",
    "\n",
    "Ennen kuin päästään suorittamaan regressioanalyysiä, dataa on muunnettava oikeaan muotooon."
   ]
  },
  {
   "cell_type": "code",
   "execution_count": 7,
   "id": "461dc142-d9e7-487d-8272-9dba90d86f2b",
   "metadata": {},
   "outputs": [],
   "source": [
    "import numpy as np\n",
    "from sklearn import linear_model\n",
    "from sklearn.metrics import classification_report\n",
    "from sklearn.model_selection import cross_val_predict\n",
    "from sklearn.model_selection import train_test_split, cross_val_score"
   ]
  },
  {
   "cell_type": "code",
   "execution_count": 30,
   "id": "399c7e27-905e-470a-a9b2-aeff405a3f69",
   "metadata": {},
   "outputs": [
    {
     "data": {
      "text/html": [
       "<div>\n",
       "<style scoped>\n",
       "    .dataframe tbody tr th:only-of-type {\n",
       "        vertical-align: middle;\n",
       "    }\n",
       "\n",
       "    .dataframe tbody tr th {\n",
       "        vertical-align: top;\n",
       "    }\n",
       "\n",
       "    .dataframe thead th {\n",
       "        text-align: right;\n",
       "    }\n",
       "</style>\n",
       "<table border=\"1\" class=\"dataframe\">\n",
       "  <thead>\n",
       "    <tr style=\"text-align: right;\">\n",
       "      <th></th>\n",
       "      <th>InvoiceNo</th>\n",
       "      <th>StockCode</th>\n",
       "      <th>Description</th>\n",
       "      <th>Quantity</th>\n",
       "      <th>InvoiceDate</th>\n",
       "      <th>UnitPrice</th>\n",
       "      <th>CustomerID</th>\n",
       "      <th>Country</th>\n",
       "      <th>OrderTotal</th>\n",
       "    </tr>\n",
       "  </thead>\n",
       "  <tbody>\n",
       "    <tr>\n",
       "      <th>0</th>\n",
       "      <td>536365</td>\n",
       "      <td>85123A</td>\n",
       "      <td>WHITE HANGING HEART T-LIGHT HOLDER</td>\n",
       "      <td>6</td>\n",
       "      <td>12/1/2010 8:26</td>\n",
       "      <td>2.55</td>\n",
       "      <td>17850.0</td>\n",
       "      <td>United Kingdom</td>\n",
       "      <td>15.30</td>\n",
       "    </tr>\n",
       "    <tr>\n",
       "      <th>1</th>\n",
       "      <td>536365</td>\n",
       "      <td>71053</td>\n",
       "      <td>WHITE METAL LANTERN</td>\n",
       "      <td>6</td>\n",
       "      <td>12/1/2010 8:26</td>\n",
       "      <td>3.39</td>\n",
       "      <td>17850.0</td>\n",
       "      <td>United Kingdom</td>\n",
       "      <td>20.34</td>\n",
       "    </tr>\n",
       "    <tr>\n",
       "      <th>2</th>\n",
       "      <td>536365</td>\n",
       "      <td>84406B</td>\n",
       "      <td>CREAM CUPID HEARTS COAT HANGER</td>\n",
       "      <td>8</td>\n",
       "      <td>12/1/2010 8:26</td>\n",
       "      <td>2.75</td>\n",
       "      <td>17850.0</td>\n",
       "      <td>United Kingdom</td>\n",
       "      <td>22.00</td>\n",
       "    </tr>\n",
       "    <tr>\n",
       "      <th>3</th>\n",
       "      <td>536365</td>\n",
       "      <td>84029G</td>\n",
       "      <td>KNITTED UNION FLAG HOT WATER BOTTLE</td>\n",
       "      <td>6</td>\n",
       "      <td>12/1/2010 8:26</td>\n",
       "      <td>3.39</td>\n",
       "      <td>17850.0</td>\n",
       "      <td>United Kingdom</td>\n",
       "      <td>20.34</td>\n",
       "    </tr>\n",
       "    <tr>\n",
       "      <th>4</th>\n",
       "      <td>536365</td>\n",
       "      <td>84029E</td>\n",
       "      <td>RED WOOLLY HOTTIE WHITE HEART.</td>\n",
       "      <td>6</td>\n",
       "      <td>12/1/2010 8:26</td>\n",
       "      <td>3.39</td>\n",
       "      <td>17850.0</td>\n",
       "      <td>United Kingdom</td>\n",
       "      <td>20.34</td>\n",
       "    </tr>\n",
       "    <tr>\n",
       "      <th>...</th>\n",
       "      <td>...</td>\n",
       "      <td>...</td>\n",
       "      <td>...</td>\n",
       "      <td>...</td>\n",
       "      <td>...</td>\n",
       "      <td>...</td>\n",
       "      <td>...</td>\n",
       "      <td>...</td>\n",
       "      <td>...</td>\n",
       "    </tr>\n",
       "    <tr>\n",
       "      <th>541904</th>\n",
       "      <td>581587</td>\n",
       "      <td>22613</td>\n",
       "      <td>PACK OF 20 SPACEBOY NAPKINS</td>\n",
       "      <td>12</td>\n",
       "      <td>12/9/2011 12:50</td>\n",
       "      <td>0.85</td>\n",
       "      <td>12680.0</td>\n",
       "      <td>France</td>\n",
       "      <td>10.20</td>\n",
       "    </tr>\n",
       "    <tr>\n",
       "      <th>541905</th>\n",
       "      <td>581587</td>\n",
       "      <td>22899</td>\n",
       "      <td>CHILDREN'S APRON DOLLY GIRL</td>\n",
       "      <td>6</td>\n",
       "      <td>12/9/2011 12:50</td>\n",
       "      <td>2.10</td>\n",
       "      <td>12680.0</td>\n",
       "      <td>France</td>\n",
       "      <td>12.60</td>\n",
       "    </tr>\n",
       "    <tr>\n",
       "      <th>541906</th>\n",
       "      <td>581587</td>\n",
       "      <td>23254</td>\n",
       "      <td>CHILDRENS CUTLERY DOLLY GIRL</td>\n",
       "      <td>4</td>\n",
       "      <td>12/9/2011 12:50</td>\n",
       "      <td>4.15</td>\n",
       "      <td>12680.0</td>\n",
       "      <td>France</td>\n",
       "      <td>16.60</td>\n",
       "    </tr>\n",
       "    <tr>\n",
       "      <th>541907</th>\n",
       "      <td>581587</td>\n",
       "      <td>23255</td>\n",
       "      <td>CHILDRENS CUTLERY CIRCUS PARADE</td>\n",
       "      <td>4</td>\n",
       "      <td>12/9/2011 12:50</td>\n",
       "      <td>4.15</td>\n",
       "      <td>12680.0</td>\n",
       "      <td>France</td>\n",
       "      <td>16.60</td>\n",
       "    </tr>\n",
       "    <tr>\n",
       "      <th>541908</th>\n",
       "      <td>581587</td>\n",
       "      <td>22138</td>\n",
       "      <td>BAKING SET 9 PIECE RETROSPOT</td>\n",
       "      <td>3</td>\n",
       "      <td>12/9/2011 12:50</td>\n",
       "      <td>4.95</td>\n",
       "      <td>12680.0</td>\n",
       "      <td>France</td>\n",
       "      <td>14.85</td>\n",
       "    </tr>\n",
       "  </tbody>\n",
       "</table>\n",
       "<p>541909 rows × 9 columns</p>\n",
       "</div>"
      ],
      "text/plain": [
       "       InvoiceNo StockCode                          Description  Quantity  \\\n",
       "0         536365    85123A   WHITE HANGING HEART T-LIGHT HOLDER         6   \n",
       "1         536365     71053                  WHITE METAL LANTERN         6   \n",
       "2         536365    84406B       CREAM CUPID HEARTS COAT HANGER         8   \n",
       "3         536365    84029G  KNITTED UNION FLAG HOT WATER BOTTLE         6   \n",
       "4         536365    84029E       RED WOOLLY HOTTIE WHITE HEART.         6   \n",
       "...          ...       ...                                  ...       ...   \n",
       "541904    581587     22613          PACK OF 20 SPACEBOY NAPKINS        12   \n",
       "541905    581587     22899         CHILDREN'S APRON DOLLY GIRL          6   \n",
       "541906    581587     23254        CHILDRENS CUTLERY DOLLY GIRL          4   \n",
       "541907    581587     23255      CHILDRENS CUTLERY CIRCUS PARADE         4   \n",
       "541908    581587     22138        BAKING SET 9 PIECE RETROSPOT          3   \n",
       "\n",
       "            InvoiceDate  UnitPrice  CustomerID         Country  OrderTotal  \n",
       "0        12/1/2010 8:26       2.55     17850.0  United Kingdom       15.30  \n",
       "1        12/1/2010 8:26       3.39     17850.0  United Kingdom       20.34  \n",
       "2        12/1/2010 8:26       2.75     17850.0  United Kingdom       22.00  \n",
       "3        12/1/2010 8:26       3.39     17850.0  United Kingdom       20.34  \n",
       "4        12/1/2010 8:26       3.39     17850.0  United Kingdom       20.34  \n",
       "...                 ...        ...         ...             ...         ...  \n",
       "541904  12/9/2011 12:50       0.85     12680.0          France       10.20  \n",
       "541905  12/9/2011 12:50       2.10     12680.0          France       12.60  \n",
       "541906  12/9/2011 12:50       4.15     12680.0          France       16.60  \n",
       "541907  12/9/2011 12:50       4.15     12680.0          France       16.60  \n",
       "541908  12/9/2011 12:50       4.95     12680.0          France       14.85  \n",
       "\n",
       "[541909 rows x 9 columns]"
      ]
     },
     "execution_count": 30,
     "metadata": {},
     "output_type": "execute_result"
    }
   ],
   "source": [
    "data[\"OrderTotal\"] = data[\"Quantity\"] * data[\"UnitPrice\"]"
   ]
  },
  {
   "cell_type": "code",
   "execution_count": 164,
   "id": "b116df34-2920-42bd-9aa6-68cac9f6f469",
   "metadata": {},
   "outputs": [
    {
     "data": {
      "text/html": [
       "<div>\n",
       "<style scoped>\n",
       "    .dataframe tbody tr th:only-of-type {\n",
       "        vertical-align: middle;\n",
       "    }\n",
       "\n",
       "    .dataframe tbody tr th {\n",
       "        vertical-align: top;\n",
       "    }\n",
       "\n",
       "    .dataframe thead th {\n",
       "        text-align: right;\n",
       "    }\n",
       "</style>\n",
       "<table border=\"1\" class=\"dataframe\">\n",
       "  <thead>\n",
       "    <tr style=\"text-align: right;\">\n",
       "      <th></th>\n",
       "      <th>CustomerID</th>\n",
       "      <th>TotalRevenue</th>\n",
       "    </tr>\n",
       "  </thead>\n",
       "  <tbody>\n",
       "    <tr>\n",
       "      <th>0</th>\n",
       "      <td>12346.0</td>\n",
       "      <td>0.00</td>\n",
       "    </tr>\n",
       "    <tr>\n",
       "      <th>1</th>\n",
       "      <td>12347.0</td>\n",
       "      <td>4310.00</td>\n",
       "    </tr>\n",
       "    <tr>\n",
       "      <th>2</th>\n",
       "      <td>12348.0</td>\n",
       "      <td>1797.24</td>\n",
       "    </tr>\n",
       "    <tr>\n",
       "      <th>3</th>\n",
       "      <td>12349.0</td>\n",
       "      <td>1757.55</td>\n",
       "    </tr>\n",
       "    <tr>\n",
       "      <th>4</th>\n",
       "      <td>12350.0</td>\n",
       "      <td>334.40</td>\n",
       "    </tr>\n",
       "  </tbody>\n",
       "</table>\n",
       "</div>"
      ],
      "text/plain": [
       "   CustomerID  TotalRevenue\n",
       "0     12346.0          0.00\n",
       "1     12347.0       4310.00\n",
       "2     12348.0       1797.24\n",
       "3     12349.0       1757.55\n",
       "4     12350.0        334.40"
      ]
     },
     "execution_count": 164,
     "metadata": {},
     "output_type": "execute_result"
    }
   ],
   "source": [
    "# Hyödynnetään aikaisemmilla viikoilla luotuja taulukoita \"orders_by_customer\" ja \"products_per_customer\".\n",
    "# Luodaan kolmast taulukko, joka koostaa kokonaismyynnin asiakasta kohden\n",
    "revenue_per_customer = data.groupby(by=\"CustomerID\",as_index=False)[\"OrderTotal\"].sum().rename(columns={\"OrderTotal\":\"TotalRevenue\"})\n",
    "revenue_per_customer.head()"
   ]
  },
  {
   "cell_type": "code",
   "execution_count": 187,
   "id": "b4065f52-1b6c-4649-b462-b9faac30d923",
   "metadata": {},
   "outputs": [
    {
     "data": {
      "text/html": [
       "<div>\n",
       "<style scoped>\n",
       "    .dataframe tbody tr th:only-of-type {\n",
       "        vertical-align: middle;\n",
       "    }\n",
       "\n",
       "    .dataframe tbody tr th {\n",
       "        vertical-align: top;\n",
       "    }\n",
       "\n",
       "    .dataframe thead th {\n",
       "        text-align: right;\n",
       "    }\n",
       "</style>\n",
       "<table border=\"1\" class=\"dataframe\">\n",
       "  <thead>\n",
       "    <tr style=\"text-align: right;\">\n",
       "      <th></th>\n",
       "      <th>CustomerID</th>\n",
       "      <th>TotalOrders</th>\n",
       "      <th>AvgNoProducts</th>\n",
       "      <th>TotalRevenue</th>\n",
       "    </tr>\n",
       "  </thead>\n",
       "  <tbody>\n",
       "    <tr>\n",
       "      <th>0</th>\n",
       "      <td>12346.0</td>\n",
       "      <td>2</td>\n",
       "      <td>0.000000</td>\n",
       "      <td>0.00</td>\n",
       "    </tr>\n",
       "    <tr>\n",
       "      <th>1</th>\n",
       "      <td>12347.0</td>\n",
       "      <td>7</td>\n",
       "      <td>13.505495</td>\n",
       "      <td>4310.00</td>\n",
       "    </tr>\n",
       "    <tr>\n",
       "      <th>2</th>\n",
       "      <td>12348.0</td>\n",
       "      <td>4</td>\n",
       "      <td>75.516129</td>\n",
       "      <td>1797.24</td>\n",
       "    </tr>\n",
       "    <tr>\n",
       "      <th>3</th>\n",
       "      <td>12349.0</td>\n",
       "      <td>1</td>\n",
       "      <td>8.643836</td>\n",
       "      <td>1757.55</td>\n",
       "    </tr>\n",
       "    <tr>\n",
       "      <th>4</th>\n",
       "      <td>12350.0</td>\n",
       "      <td>1</td>\n",
       "      <td>11.588235</td>\n",
       "      <td>334.40</td>\n",
       "    </tr>\n",
       "  </tbody>\n",
       "</table>\n",
       "</div>"
      ],
      "text/plain": [
       "   CustomerID  TotalOrders  AvgNoProducts  TotalRevenue\n",
       "0     12346.0            2       0.000000          0.00\n",
       "1     12347.0            7      13.505495       4310.00\n",
       "2     12348.0            4      75.516129       1797.24\n",
       "3     12349.0            1       8.643836       1757.55\n",
       "4     12350.0            1      11.588235        334.40"
      ]
     },
     "execution_count": 187,
     "metadata": {},
     "output_type": "execute_result"
    }
   ],
   "source": [
    "# Yhdistetään nyt asiakaskohtaiset tiedot yhteen taulukkoon \"merge\"-metodin avulla\n",
    "mid_result = pd.merge(orders_by_customer, products_per_customer, on=\"CustomerID\")\n",
    "reg_data = pd.merge(mid_result, revenue_per_customer, on=\"CustomerID\")\n",
    "reg_data.head()"
   ]
  },
  {
   "cell_type": "code",
   "execution_count": 158,
   "id": "51ded061-ad08-4b83-ab4e-5dbb8b052ce0",
   "metadata": {},
   "outputs": [
    {
     "data": {
      "image/png": "[encoded data removed]",
      "text/plain": [
       "<Figure size 1440x720 with 1 Axes>"
      ]
     },
     "metadata": {
      "needs_background": "light"
     },
     "output_type": "display_data"
    }
   ],
   "source": [
    "# Alustetaan lr-malli\n",
    "lr = linear_model.LinearRegression()\n",
    "y = reg_data.TotalRevenue\n",
    "X = reg_data.drop(columns=\"TotalRevenue\")\n",
    "\n",
    "predict = cross_val_predict(lr, X, y, cv=10)\n",
    "\n",
    "fig, ax = plt.subplots(figsize=(20, 10))\n",
    "ax.scatter(y, predict, edgecolors=(0, 0, 0))\n",
    "ax.plot([y.min(), y.max()], [y.min(), y.max()], 'k--', lw=4)\n",
    "ax.set_xlabel('Measured')\n",
    "ax.set_ylabel('Predicted')\n",
    "plt.show()"
   ]
  },
  {
   "cell_type": "code",
   "execution_count": 188,
   "id": "9a0cd1b6-c299-4314-8958-dc0309275bbe",
   "metadata": {},
   "outputs": [
    {
     "name": "stdout",
     "output_type": "stream",
     "text": [
      "21.705286915816824\n"
     ]
    }
   ],
   "source": [
    "print(reg_data[\"TotalRevenue\"].skew())"
   ]
  },
  {
   "cell_type": "code",
   "execution_count": 189,
   "id": "336548bf-4c40-49d8-81e3-35ed3d43989d",
   "metadata": {},
   "outputs": [
    {
     "name": "stdout",
     "output_type": "stream",
     "text": [
      "21.705286915816824\n",
      "-9.590983004195008\n"
     ]
    }
   ],
   "source": [
    "reg_data[\"LogTotalRevenue\"] = reg_data[\"TotalRevenue\"].map(lambda i: np.log(i) if i > 0 else 0) \n",
    "print(reg_data[\"TotalRevenue\"].skew())\n",
    "print(reg_data[\"LogTotalRevenue\"].skew())"
   ]
  },
  {
   "cell_type": "code",
   "execution_count": 173,
   "id": "1c9763d3-7fda-49ee-a82d-790ed837eb35",
   "metadata": {},
   "outputs": [
    {
     "name": "stdout",
     "output_type": "stream",
     "text": [
      "4.983755514976152\n",
      "8.162116644826082\n"
     ]
    }
   ],
   "source": [
    "# Huomataan, että data sisältää reilusti oudokkeja. Eräs tekniikka niiden eliminoimiseksi on kvanttiileihin perustuvien rajojen asettaminen.\n",
    "print(reg_data[\"LogTotalRevenue\"].quantile(0.10))\n",
    "print(reg_data[\"LogTotalRevenue\"].quantile(0.90))"
   ]
  },
  {
   "cell_type": "code",
   "execution_count": 190,
   "id": "33e964c8-8fce-4d3c-ba29-b5fe1dba9cd6",
   "metadata": {},
   "outputs": [
    {
     "data": {
      "text/plain": [
       "CustomerID          0.000918\n",
       "TotalOrders        11.412274\n",
       "AvgNoProducts      48.886768\n",
       "TotalRevenue       21.705287\n",
       "LogTotalRevenue     0.093950\n",
       "dtype: float64"
      ]
     },
     "execution_count": 190,
     "metadata": {},
     "output_type": "execute_result"
    }
   ],
   "source": [
    "reg_data[\"LogTotalRevenue\"] = np.where(reg_data[\"LogTotalRevenue\"] <4.983, 4.983,reg_data[\"LogTotalRevenue\"])\n",
    "reg_data[\"LogTotalRevenue\"] = np.where(reg_data[\"LogTotalRevenue\"] >8.162, 8.162,reg_data[\"LogTotalRevenue\"])\n",
    "reg_data.skew()"
   ]
  },
  {
   "cell_type": "code",
   "execution_count": 191,
   "id": "e43ea6f3-78a7-4824-8ff6-aa20180a53b8",
   "metadata": {},
   "outputs": [
    {
     "data": {
      "text/html": [
       "<div>\n",
       "<style scoped>\n",
       "    .dataframe tbody tr th:only-of-type {\n",
       "        vertical-align: middle;\n",
       "    }\n",
       "\n",
       "    .dataframe tbody tr th {\n",
       "        vertical-align: top;\n",
       "    }\n",
       "\n",
       "    .dataframe thead th {\n",
       "        text-align: right;\n",
       "    }\n",
       "</style>\n",
       "<table border=\"1\" class=\"dataframe\">\n",
       "  <thead>\n",
       "    <tr style=\"text-align: right;\">\n",
       "      <th></th>\n",
       "      <th>CustomerID</th>\n",
       "      <th>TotalOrders</th>\n",
       "      <th>AvgNoProducts</th>\n",
       "      <th>TotalRevenue</th>\n",
       "      <th>LogTotalRevenue</th>\n",
       "    </tr>\n",
       "  </thead>\n",
       "  <tbody>\n",
       "    <tr>\n",
       "      <th>0</th>\n",
       "      <td>12346.0</td>\n",
       "      <td>2</td>\n",
       "      <td>0.000000</td>\n",
       "      <td>0.00</td>\n",
       "      <td>4.983000</td>\n",
       "    </tr>\n",
       "    <tr>\n",
       "      <th>1</th>\n",
       "      <td>12347.0</td>\n",
       "      <td>7</td>\n",
       "      <td>13.505495</td>\n",
       "      <td>4310.00</td>\n",
       "      <td>8.162000</td>\n",
       "    </tr>\n",
       "    <tr>\n",
       "      <th>2</th>\n",
       "      <td>12348.0</td>\n",
       "      <td>4</td>\n",
       "      <td>75.516129</td>\n",
       "      <td>1797.24</td>\n",
       "      <td>7.494007</td>\n",
       "    </tr>\n",
       "    <tr>\n",
       "      <th>3</th>\n",
       "      <td>12349.0</td>\n",
       "      <td>1</td>\n",
       "      <td>8.643836</td>\n",
       "      <td>1757.55</td>\n",
       "      <td>7.471676</td>\n",
       "    </tr>\n",
       "    <tr>\n",
       "      <th>4</th>\n",
       "      <td>12350.0</td>\n",
       "      <td>1</td>\n",
       "      <td>11.588235</td>\n",
       "      <td>334.40</td>\n",
       "      <td>5.812338</td>\n",
       "    </tr>\n",
       "    <tr>\n",
       "      <th>...</th>\n",
       "      <td>...</td>\n",
       "      <td>...</td>\n",
       "      <td>...</td>\n",
       "      <td>...</td>\n",
       "      <td>...</td>\n",
       "    </tr>\n",
       "    <tr>\n",
       "      <th>4367</th>\n",
       "      <td>18280.0</td>\n",
       "      <td>1</td>\n",
       "      <td>4.500000</td>\n",
       "      <td>180.60</td>\n",
       "      <td>5.196285</td>\n",
       "    </tr>\n",
       "    <tr>\n",
       "      <th>4368</th>\n",
       "      <td>18281.0</td>\n",
       "      <td>1</td>\n",
       "      <td>7.714286</td>\n",
       "      <td>80.82</td>\n",
       "      <td>4.983000</td>\n",
       "    </tr>\n",
       "    <tr>\n",
       "      <th>4369</th>\n",
       "      <td>18282.0</td>\n",
       "      <td>3</td>\n",
       "      <td>7.538462</td>\n",
       "      <td>176.60</td>\n",
       "      <td>5.173887</td>\n",
       "    </tr>\n",
       "    <tr>\n",
       "      <th>4370</th>\n",
       "      <td>18283.0</td>\n",
       "      <td>16</td>\n",
       "      <td>1.847884</td>\n",
       "      <td>2094.88</td>\n",
       "      <td>7.647252</td>\n",
       "    </tr>\n",
       "    <tr>\n",
       "      <th>4371</th>\n",
       "      <td>18287.0</td>\n",
       "      <td>3</td>\n",
       "      <td>22.657143</td>\n",
       "      <td>1837.28</td>\n",
       "      <td>7.516041</td>\n",
       "    </tr>\n",
       "  </tbody>\n",
       "</table>\n",
       "<p>4372 rows × 5 columns</p>\n",
       "</div>"
      ],
      "text/plain": [
       "      CustomerID  TotalOrders  AvgNoProducts  TotalRevenue  LogTotalRevenue\n",
       "0        12346.0            2       0.000000          0.00         4.983000\n",
       "1        12347.0            7      13.505495       4310.00         8.162000\n",
       "2        12348.0            4      75.516129       1797.24         7.494007\n",
       "3        12349.0            1       8.643836       1757.55         7.471676\n",
       "4        12350.0            1      11.588235        334.40         5.812338\n",
       "...          ...          ...            ...           ...              ...\n",
       "4367     18280.0            1       4.500000        180.60         5.196285\n",
       "4368     18281.0            1       7.714286         80.82         4.983000\n",
       "4369     18282.0            3       7.538462        176.60         5.173887\n",
       "4370     18283.0           16       1.847884       2094.88         7.647252\n",
       "4371     18287.0            3      22.657143       1837.28         7.516041\n",
       "\n",
       "[4372 rows x 5 columns]"
      ]
     },
     "execution_count": 191,
     "metadata": {},
     "output_type": "execute_result"
    }
   ],
   "source": [
    "reg_data"
   ]
  },
  {
   "cell_type": "code",
   "execution_count": 192,
   "id": "7c67a25c-818a-4044-b207-1fc2c2692fcb",
   "metadata": {},
   "outputs": [
    {
     "data": {
      "image/png": "[encoded data removed]",
      "text/plain": [
       "<Figure size 1440x720 with 1 Axes>"
      ]
     },
     "metadata": {
      "needs_background": "light"
     },
     "output_type": "display_data"
    }
   ],
   "source": [
    "# Asetetaan malli uudelleen\n",
    "lr = linear_model.LinearRegression()\n",
    "y = reg_data.LogTotalRevenue\n",
    "X = reg_data.drop(columns=[\"LogTotalRevenue\", \"TotalRevenue\"])\n",
    "\n",
    "predict = cross_val_predict(lr, X, y, cv=10)\n",
    "\n",
    "fig, ax = plt.subplots(figsize=(20, 10))\n",
    "ax.scatter(y, predict, edgecolors=(0, 0, 0))\n",
    "ax.plot([y.min(), y.max()], [y.min(), y.max()], 'k--', lw=4)\n",
    "ax.set_xlabel('Measured')\n",
    "ax.set_ylabel('Predicted')\n",
    "plt.show()"
   ]
  },
  {
   "cell_type": "code",
   "execution_count": 193,
   "id": "693b91b4-673e-43e6-a574-bd0512d77b56",
   "metadata": {},
   "outputs": [
    {
     "name": "stdout",
     "output_type": "stream",
     "text": [
      "[-0.07119442  0.25162066  0.13100986  0.27417531  0.25461814]\n",
      "Accuracy: 0.168 (+/- 0.260)\n"
     ]
    },
    {
     "name": "stderr",
     "output_type": "stream",
     "text": [
      "[Parallel(n_jobs=1)]: Using backend SequentialBackend with 1 concurrent workers.\n",
      "[Parallel(n_jobs=1)]: Done   5 out of   5 | elapsed:    0.0s finished\n"
     ]
    }
   ],
   "source": [
    "scores = cross_val_score(lr, X, y, verbose=1, cv=5)\n",
    "print(scores)\n",
    "print(\"Accuracy: %0.3f (+/- %0.3f)\" % (scores.mean(), scores.std() * 2))\n",
    "# Huomataan, että ei saavuteta kovin tarkkaa mallia. Miten voitaisiin parantaa?"
   ]
  },
  {
   "cell_type": "code",
   "execution_count": 141,
   "id": "51df8a83-0b98-4cce-a9ba-3567fc94392f",
   "metadata": {},
   "outputs": [
    {
     "data": {
      "text/html": [
       "<div>\n",
       "<style scoped>\n",
       "    .dataframe tbody tr th:only-of-type {\n",
       "        vertical-align: middle;\n",
       "    }\n",
       "\n",
       "    .dataframe tbody tr th {\n",
       "        vertical-align: top;\n",
       "    }\n",
       "\n",
       "    .dataframe thead th {\n",
       "        text-align: right;\n",
       "    }\n",
       "</style>\n",
       "<table border=\"1\" class=\"dataframe\">\n",
       "  <thead>\n",
       "    <tr style=\"text-align: right;\">\n",
       "      <th></th>\n",
       "      <th>CustomerID</th>\n",
       "      <th>TotalOrders</th>\n",
       "      <th>AvgNoProducts</th>\n",
       "      <th>TotalRevenue</th>\n",
       "    </tr>\n",
       "  </thead>\n",
       "  <tbody>\n",
       "    <tr>\n",
       "      <th>CustomerID</th>\n",
       "      <td>1.000000</td>\n",
       "      <td>-0.019309</td>\n",
       "      <td>-0.017097</td>\n",
       "      <td>-0.050818</td>\n",
       "    </tr>\n",
       "    <tr>\n",
       "      <th>TotalOrders</th>\n",
       "      <td>-0.019309</td>\n",
       "      <td>1.000000</td>\n",
       "      <td>0.000616</td>\n",
       "      <td>0.660101</td>\n",
       "    </tr>\n",
       "    <tr>\n",
       "      <th>AvgNoProducts</th>\n",
       "      <td>-0.017097</td>\n",
       "      <td>0.000616</td>\n",
       "      <td>1.000000</td>\n",
       "      <td>0.037676</td>\n",
       "    </tr>\n",
       "    <tr>\n",
       "      <th>TotalRevenue</th>\n",
       "      <td>-0.050818</td>\n",
       "      <td>0.660101</td>\n",
       "      <td>0.037676</td>\n",
       "      <td>1.000000</td>\n",
       "    </tr>\n",
       "  </tbody>\n",
       "</table>\n",
       "</div>"
      ],
      "text/plain": [
       "               CustomerID  TotalOrders  AvgNoProducts  TotalRevenue\n",
       "CustomerID       1.000000    -0.019309      -0.017097     -0.050818\n",
       "TotalOrders     -0.019309     1.000000       0.000616      0.660101\n",
       "AvgNoProducts   -0.017097     0.000616       1.000000      0.037676\n",
       "TotalRevenue    -0.050818     0.660101       0.037676      1.000000"
      ]
     },
     "execution_count": 141,
     "metadata": {},
     "output_type": "execute_result"
    }
   ],
   "source": [
    "reg_data.corr()\n",
    "# korrelaatiokertoimista voitaneen kuitenkin päätellä, että asiakkaan yhteensä tekemien tilausten määrä on vahvasti yhteydessä asiakkaan tuottamaan myyntiin,\n",
    "# kun taas tilauksen keskimääräinen tuotteiden määrä ei ole juuri lainkaan yhteydessö myyntiin."
   ]
  },
  {
   "cell_type": "markdown",
   "id": "03464b8d-319f-48cd-a02a-66fd38b007fc",
   "metadata": {},
   "source": [
    "https://www.pluralsight.com/guides/cleaning-up-data-from-outliers\n",
    "\n",
    "https://www.shanelynn.ie/merge-join-dataframes-python-pandas-index-1/\n",
    "\n",
    "#### Opittua\n",
    "\n",
    "1) Ongelma- / liiketoimintalähtöinen lähestymistapa datan tutkimiseen on ilmeisen yleinen myös datatieteilijöiden keskuudessa\n",
    "1) Lineaarinen regressio on yleinen ja helppokäyttöinen ohjatun oppimisen algoritmi, jonka avulla voidaan hahmottaa lineaarisia riippuvuussuhteita muuttujien välillä\n",
    "2) Lineaarinen regressio on herkkä oudokkiarvojen (outliers) vaikutuksille, sillä PNS-menetelmällä lasketut neliöidyt etäisyydet kasvavat toiseen potenssiin ja muokkaavat tällä tavoin regressiosuoraa merkittävästi\n",
    "3) Eräs tapa oudokkiarvojen käsittelemiseksi lineaarisen regression yhteudessä on niiden eliminointi esimerkiksi kvanttiileihin perustuen (saattaa vääristää tuloksia)\n",
    "4) Muuttijien logaritmointi saattaa auttaa kuvaamaan ei lineaarisia riippuvuuksia datassa\n",
    "\n",
    "#### Kehitysideoita luentoviikolle\n",
    "\n",
    "1) Kurssin harjoitustyö saattaisi olla mielekästä toteuttaa 3-4 hengen ryhmissä, jolloin sen tekeminen kehittäisi myös kriittisiä työelämätaitoja kuten vurorovaikutusta, organisointia ja työnjakoa"
   ]
  },
  {
   "cell_type": "markdown",
   "id": "e2d784c3-166c-4c50-acaa-d8921529b246",
   "metadata": {},
   "source": [
    "## Luentoviikko 5\n",
    "\n",
    "Luentoviikolla 5 tutustuttiin tarkemmin luonnollisen kielen analysointiin (NLP, Natural Language Processing) Futuricen Teemu Mikkosen johdolla. Osallistuin luennolle livenä ja olikin oikein mielenkiintoista seurata alan ammattilaisten keskustelua aiheesta, jota olimme opiskelemassa. \n",
    "\n",
    "#### Luonnollisen kielen analyysi - mahdollisuuksia ja haasteita\n",
    "\n",
    "Käsitetasolla luonnollisen kielen käyttäminen analyysin osana tai perustana vaikuttaa äärettömän mielenkiintoiselta, sillä se mahdollistaa valtavien datamäärien hyödyntämisen (esimerkiksi keskustelupalstat, erilaiset asiakirjat / dokumentit, jne.). Kyky analysoida luonnollista kieltä tai muuta vastaavaa todellisessa maailmassa luonnollisesti syntyvää sisältöä vaikuttaa murtavan kuvainnollista \"seinää\" luonnollisen maailman ja strukturoidun verkkomaailman välillä, mahdollistaen vuorovaikutuksen näiden kesken. Kuten luennolla esitettiin, luonnollisen kielen analyysiä on kuitenkin kritisoitu sen käyttökohteiden rajallisuuden vuoksi. Lieneekin aiheellista pohtia, minkälaista arvoa luonnollisen kielen analyysillä voidaan todellisuudessa tuottaa.\n",
    "\n",
    "Kuten Mikkonen luennolla esitti, luonnollisen kielen analyysiä hyödynnetään useimmiten (erityisesti datatieteen kontekstissa) osana muunlaisia ratkaisuja siten, että  NLP tarjoaa ikään kuin täydentävän lisäulottuvuuuden / ominaisuuden dataan. Tästä malliesimerkkinä toimii Basics for Business Data Analytics -kurssilla esitellyt sosiaalisen median analytiikan sovellukset. Eräs kurssilla esitelty aineisto sisälsi twiitistä kerättyjen  ilmeisten kvantitatiivisten piirteiden, kuten tykkäysten, jakamisten ja kommenttien lukumäärän lisäksi twiitin sisältämän sentimentin eli eräänlaisen tunnetilan. Sentimenttianalyysi eli tunneanalyysi on eräs NLP:n käytetyimmistä lähestymistavoista.\n",
    "\n",
    "Vaikka monet NLP:n käyttökohteet ovatkin usein täydentävänä osana jotain muuta data / koneopppimisratkaisua (esimerkiksi edellä mainittu sentimenttianalyysi), on luonnollisen kielen analytiikalla joitain sovelluksia myös \"teollisuudessa\" ja tuotanto-ohjelmoinnin puolella. Tästä esimerkkinä toimii tamperelaisten diplomi-insinöörien perustama Ultimate.ai, joka pyrkii automatisoimaan asiakaspalvelun NLP-pohjaisen chat-palvelun avulla. Tuotteen vahvuutena on, että se toimii millä tahansa kielellä. Postin kanssa tehdyn pilottihankkeen tuloksena Ultimate.ai kykeni automatisoimaan yli 80% postin asiakaspalvelusta. \"Tekoäly\" koulutetaan asiakaspalvelutehtävään syöttämällä sille asiakkaiden kanssa käytyjä keskusteluja. Mielenkiintoista on, että algoritmi ei ole millään tapaa toimialasidonnainen, vaan se on oppinut asiakaspalvelun niin verkkokaupassa (Zalando) kuin matkustamisessakin (Finnair). \n",
    "\n",
    "\n",
    "https://www.talouselama.fi/uutiset/kaveriporukka-loysi-tekoalysta-liikeidean-sattuman-kautta-nyt-yritys-kasvaa-vauhdilla-ja-tahtaa-startupien-supersarjaan/801d683a-1a8a-496b-89a9-394762f3b5c8\n"
   ]
  },
  {
   "cell_type": "markdown",
   "id": "bc425142-8475-4de5-aab9-d75611d19cd0",
   "metadata": {},
   "source": [
    "#### Koodidemo - Tuotteiden luokittelua\n",
    "\n",
    "Jatketaan edelleen jo tutuksi tulleen ecommerce-datasetin käsittelyä. Keskitytään tällä kertaa tuotteisiin - pyritään hyödyntämään NLP:tä erottamaan piirteitä tuotteiden kuvauksista."
   ]
  },
  {
   "cell_type": "code",
   "execution_count": 4,
   "id": "b5e0aec1-be31-4927-9b85-df183a687b19",
   "metadata": {},
   "outputs": [],
   "source": [
    "import nltk\n",
    "from nltk.corpus import stopwords\n",
    "from sklearn.feature_extraction.text import TfidfVectorizer\n",
    "from sklearn.cluster import KMeans\n",
    "pd.options.mode.chained_assignment = None"
   ]
  },
  {
   "cell_type": "code",
   "execution_count": 5,
   "id": "06b8d473-2898-4c24-b895-afcc1348ecf5",
   "metadata": {},
   "outputs": [
    {
     "data": {
      "text/plain": [
       "0"
      ]
     },
     "execution_count": 5,
     "metadata": {},
     "output_type": "execute_result"
    }
   ],
   "source": [
    "# Poistetaan kuvaukset, jotka sisältävät null-arvoja\n",
    "Products = data[~data.Description.isnull()]\n",
    "Products[\"Description\"].isnull().sum()"
   ]
  },
  {
   "cell_type": "code",
   "execution_count": 6,
   "id": "14ed60ff-d857-413c-8afe-68b26bcbd8c5",
   "metadata": {},
   "outputs": [],
   "source": [
    "# Muunnetaan kuvaus pieniksi kirjaimiksi\n",
    "Products[\"Description\"] = Products[\"Description\"].apply(str.lower)"
   ]
  },
  {
   "cell_type": "code",
   "execution_count": 7,
   "id": "1379778d-1310-4943-9c2a-4810cd876faf",
   "metadata": {},
   "outputs": [],
   "source": [
    "# Ladataan englanninkieliset hukkasanat\n",
    "stwords = stopwords.words('english')\n",
    "# Käydään tuotekuvaus läpi, poistetaan hukkasanat\n",
    "Products['Description'] = Products['Description'].apply(lambda x: ' '.join([word for word in x.split() if word not in (stwords)]))"
   ]
  },
  {
   "cell_type": "code",
   "execution_count": 8,
   "id": "0617a044-91a9-4e4b-b6dd-e863899dabc4",
   "metadata": {},
   "outputs": [
    {
     "data": {
      "text/html": [
       "<div>\n",
       "<style scoped>\n",
       "    .dataframe tbody tr th:only-of-type {\n",
       "        vertical-align: middle;\n",
       "    }\n",
       "\n",
       "    .dataframe tbody tr th {\n",
       "        vertical-align: top;\n",
       "    }\n",
       "\n",
       "    .dataframe thead th {\n",
       "        text-align: right;\n",
       "    }\n",
       "</style>\n",
       "<table border=\"1\" class=\"dataframe\">\n",
       "  <thead>\n",
       "    <tr style=\"text-align: right;\">\n",
       "      <th></th>\n",
       "      <th>InvoiceNo</th>\n",
       "      <th>StockCode</th>\n",
       "      <th>Description</th>\n",
       "      <th>Quantity</th>\n",
       "      <th>InvoiceDate</th>\n",
       "      <th>UnitPrice</th>\n",
       "      <th>CustomerID</th>\n",
       "      <th>Country</th>\n",
       "    </tr>\n",
       "  </thead>\n",
       "  <tbody>\n",
       "    <tr>\n",
       "      <th>0</th>\n",
       "      <td>536365</td>\n",
       "      <td>85123A</td>\n",
       "      <td>white hanging heart t-light holder</td>\n",
       "      <td>6</td>\n",
       "      <td>12/1/2010 8:26</td>\n",
       "      <td>2.55</td>\n",
       "      <td>17850.0</td>\n",
       "      <td>United Kingdom</td>\n",
       "    </tr>\n",
       "    <tr>\n",
       "      <th>1</th>\n",
       "      <td>536365</td>\n",
       "      <td>71053</td>\n",
       "      <td>white metal lantern</td>\n",
       "      <td>6</td>\n",
       "      <td>12/1/2010 8:26</td>\n",
       "      <td>3.39</td>\n",
       "      <td>17850.0</td>\n",
       "      <td>United Kingdom</td>\n",
       "    </tr>\n",
       "    <tr>\n",
       "      <th>2</th>\n",
       "      <td>536365</td>\n",
       "      <td>84406B</td>\n",
       "      <td>cream cupid hearts coat hanger</td>\n",
       "      <td>8</td>\n",
       "      <td>12/1/2010 8:26</td>\n",
       "      <td>2.75</td>\n",
       "      <td>17850.0</td>\n",
       "      <td>United Kingdom</td>\n",
       "    </tr>\n",
       "    <tr>\n",
       "      <th>3</th>\n",
       "      <td>536365</td>\n",
       "      <td>84029G</td>\n",
       "      <td>knitted union flag hot water bottle</td>\n",
       "      <td>6</td>\n",
       "      <td>12/1/2010 8:26</td>\n",
       "      <td>3.39</td>\n",
       "      <td>17850.0</td>\n",
       "      <td>United Kingdom</td>\n",
       "    </tr>\n",
       "    <tr>\n",
       "      <th>4</th>\n",
       "      <td>536365</td>\n",
       "      <td>84029E</td>\n",
       "      <td>red woolly hottie white heart.</td>\n",
       "      <td>6</td>\n",
       "      <td>12/1/2010 8:26</td>\n",
       "      <td>3.39</td>\n",
       "      <td>17850.0</td>\n",
       "      <td>United Kingdom</td>\n",
       "    </tr>\n",
       "  </tbody>\n",
       "</table>\n",
       "</div>"
      ],
      "text/plain": [
       "  InvoiceNo StockCode                          Description  Quantity  \\\n",
       "0    536365    85123A   white hanging heart t-light holder         6   \n",
       "1    536365     71053                  white metal lantern         6   \n",
       "2    536365    84406B       cream cupid hearts coat hanger         8   \n",
       "3    536365    84029G  knitted union flag hot water bottle         6   \n",
       "4    536365    84029E       red woolly hottie white heart.         6   \n",
       "\n",
       "      InvoiceDate  UnitPrice  CustomerID         Country  \n",
       "0  12/1/2010 8:26       2.55     17850.0  United Kingdom  \n",
       "1  12/1/2010 8:26       3.39     17850.0  United Kingdom  \n",
       "2  12/1/2010 8:26       2.75     17850.0  United Kingdom  \n",
       "3  12/1/2010 8:26       3.39     17850.0  United Kingdom  \n",
       "4  12/1/2010 8:26       3.39     17850.0  United Kingdom  "
      ]
     },
     "execution_count": 8,
     "metadata": {},
     "output_type": "execute_result"
    }
   ],
   "source": [
    "Products.head()"
   ]
  },
  {
   "cell_type": "code",
   "execution_count": 9,
   "id": "ae4db107-4570-4e4c-8afe-e3616a8db863",
   "metadata": {},
   "outputs": [],
   "source": [
    "vectorizer = TfidfVectorizer()\n",
    "reprs = vectorizer.fit_transform(Products[\"Description\"])"
   ]
  },
  {
   "cell_type": "code",
   "execution_count": 10,
   "id": "3085abfa-6353-4245-ba62-14e765985fc2",
   "metadata": {},
   "outputs": [
    {
     "data": {
      "text/plain": [
       "array(['00', '10', '100', ..., 'yuletide', 'zero', 'zinc'], dtype=object)"
      ]
     },
     "execution_count": 10,
     "metadata": {},
     "output_type": "execute_result"
    }
   ],
   "source": [
    "vectorizer.get_feature_names_out()"
   ]
  },
  {
   "cell_type": "code",
   "execution_count": null,
   "id": "d2f9a9c5-8a15-4141-bd60-1a3825b0bbc8",
   "metadata": {},
   "outputs": [],
   "source": [
    "kmeans = KMeans(n_clusters=5)\n",
    "kmeans.fit(reprs)"
   ]
  },
  {
   "cell_type": "code",
   "execution_count": null,
   "id": "cbed7700-0e01-4c11-b944-45bf2e41ffda",
   "metadata": {},
   "outputs": [],
   "source": [
    "Products[\"Cluster\"] = kmeans.predict(reprs)"
   ]
  },
  {
   "cell_type": "code",
   "execution_count": 15,
   "id": "0f3e17fa-f304-4800-9f3f-85dcabff772c",
   "metadata": {},
   "outputs": [
    {
     "data": {
      "text/plain": [
       "0    366488\n",
       "3     58244\n",
       "2     48267\n",
       "4     45924\n",
       "1     21532\n",
       "Name: Cluster, dtype: int64"
      ]
     },
     "execution_count": 15,
     "metadata": {},
     "output_type": "execute_result"
    }
   ],
   "source": [
    "Products[\"Cluster\"].value_counts()"
   ]
  },
  {
   "cell_type": "markdown",
   "id": "242d9a00-d0ab-40a2-998a-06c2ae4d59d2",
   "metadata": {},
   "source": [
    "Huomataan, että tuotteet on jaettu viiteen klusteriin.\n",
    "\n",
    "#### Opittua\n",
    "\n",
    "1) NLP mahdollistaa pääsyn valtavaan määrään sellaista \"strukturoimatonta\" dataa, jonka avulla on mahdollista rikastaa analyysia\n",
    "2) NLP:n sovelluskohteet vaikuttavat kuitenkin olevan verrattain rajallisia ja \"subjektiivisen\" datan (esimerkiksi sentimentti) analyysi ei ole täysin luotettavaa\n",
    "3) Nltk on yksi yleisimmin käytetyistä Python-kirjastoista luonnollisen kielen käsittelyyn\n",
    "4) Kuten monet muut data-analyysin tekniikat ja algoritmit, luonnollisen kielen analyysi vaatii ekstensiivistä datan valmistelua ja putsaamista\n",
    "5) Vektorisoinnilla voidaan muuntaa tekstiä (ihmisen ymmärtämää kieltä) koneoppimis-algoritmin (koodidemon tapauksessa K-means-algoritmin) ymmärtämään muotoon\n",
    "\n",
    "#### Kehitysideoita luentoviikolle\n",
    "\n",
    "1) Virailuluennon toteutus livenä yleisön edessä saattaisi luoda enemmän vuorovaikutusta ja olla näin vielä mielekkäämpi kokemus niin (vierailu)luennoitsijalle, kuin myös osallistujille\n"
   ]
  },
  {
   "cell_type": "markdown",
   "id": "49d4e13d-a4bb-4cf1-8b09-217ad6deeeec",
   "metadata": {},
   "source": [
    "## Luentoviikko 6\n",
    "\n",
    "Luentoviikolla 6 käsiteltiin ohjaamatonta oppimista tarkastelemalla sen tyyppiesimerkkejä (ryvästäminen / klusterointi, aihemallinnus jne.) ja vertaamalla sen vaatimuksia ja sovelluksia ohjattuun oppimiseen. Koodiklinikan puolella syvennyttiin tarkemmin ohjaamattoman oppimisen erään tyypisovelluksen, ostoskorianalyysin toimintaan.\n",
    "\n",
    "#### Ohjaamaton vs. ohjattu oppiminen\n",
    "\n",
    "Sivusin käsitteitä ohjaamaton (unsupervised) ja ohjattu (supervised) oppiminen jo luentoviikon 3 oppimispäiväkirjassa, jonka yhteydessä pohdin koneoppimista ja sen sovelluksia yleisemmällä tasolla. Nyt kun kuudennella luentoviikolla olen muodostanut paremmman käsityksen myös ohjaamattomasta oppimisesta, lienee mielekästä jälleen kerran verrata kahta lähestymistapaa toisiinsa.\n",
    "\n",
    "##### Määräävät ominaisuudet\n",
    "\n",
    "Merkittävimpänä erona kahden lähestymistavan välillä voitaneen nähdä \"supervised / unsupervised learning workflow\"-kaavioidenkin esittämän labeleiden eli \"ennustettavan muuttujan / ulostulon\" käytön. Kuten todettua, ohjatun oppimisen algoritmit (esimerkiksi random forest) vaativat merkittyä / luokiteltua dataa, kun taas ohjaamattoman oppimisen algoritmit (esimerkiksi k-means) koulutetaan \"merkitsemättömällä\" datalla\n",
    "\n",
    "Tämä ominaisuus määrittelee, minkälaisissa tehtävissä ohjaamatonta oppimista on järkevää tai mahdollista hyödyntää. Luentoviikolla 3 totesin, miten haastavaa, aikaa vievää ja manuaalista työtä datan piirteiden erottaminen ja labeleiden / ulostulojen luokittelu ohjattua oppimista varten onkaan. Ohjaamattoman oppimisen tapauksessa kyseistä haastetta ei luonnollisesti ole, sillä algoritmille voidaan syöttää tältä osin \"strukturoimatonta\" dataa.\n",
    "\n",
    "##### Käyttökohteista\n",
    "\n",
    "Edellä kuvattu ominaisuus luo ohjaamattomasta oppimisesta erityisen soveltuvan lähestymistavan käyttökonteksteissa, jossa dataa on paljon ja se ei ole eksplisiittisesti \"labeloitua\" / strukturoitua. Ohjaamattomalla oppimisella voidaankin pyrkiä löytämään datasta sen ns. luonnollisia (vrt. eksplisiittisiä) rakenteita, joita ei ole vielä kategorisoitu. Huomattavaa kuitenkin on, että vaikka ohjaamattoman oppimisen tapauksessa datan piirteitä ei ole tarpeen rakentaa manuaalisesti, ei tämä kuitenkaan tarkoita etteikö dataa olisi valmisteltava algoritmia varten. Luentoviikon 2 oppimipäiväkirjan yhteydessä toteamani garbage-in, garbage-out pätee myös tässä. Itseasiassa datan laadun varmistaminen lienee ohjaamattoman oppimisen tapauksessa yhä tärkeämpää, sillä algoritmin päätöksenteosta (jonka avulla voitaisiin tehdä päätelmiä sille annetun tiedon laadusta) ei yleisesti ottaen juuri saada tietoa.\n",
    "\n",
    "Datassa piilevien rakenteiden ja syy-seuraus-suhteiden etsiminen ohjaamattoman oppimisen keinoin voitaneen nähdä eräänä tapana pyrkiä tunnistamaan ja paremmin varautumaan \"tuntemattomien tuntemattomien\" (unknown unknowns) vaikutuksiin. Ohjaamatonta oppimista voidaan soveltaa esimerkiksi lääketieteellisen kuvantamisen yhteydessä erilaisten poikkeamien etsimiseen. Ohjaamattoman oppimisen algoritmi ei saa sen kouluttajan \"kädenjälkeä\" (harhaa / ennakkokäsitystä) vastaavalla tavalla kuin ohjatun oppimisen yhteydessä, vaan se kykenee oppimaan puhtaasti datasta itsestään. Kuten todettua, ohjaamattomaan oppimiseen nojaavan mallin tulkinta lienee haastavampaa verrattuna ohjatun oppimisen malliin, jossa mallin ulostuloa ennustavat tekijät ovat tarkalleen tiedossa.\n",
    "\n",
    "https://www.ibm.com/cloud/blog/supervised-vs-unsupervised-learning\n",
    "\n",
    "https://www.techtarget.com/searchenterpriseai/feature/Comparing-supervised-vs-unsupervised-learning\n",
    "\n",
    "#### Koodidemo - Kmeans klusterointi\n",
    "\n",
    "Edellisen viikon koodidemon yhteydessä pyrin suorittamaan tuotteiden klusteroinnin niiden kuvauksiin perustuen. Kyseisessä analyysissä klustereiden määrä, viisi, valikoitui perusteetta. Tämän viikon koodidemon yhteydessä pyrin hyödyntämään kyynärpää-metodia klustereiden optimaalisen lukumäärän löytämiseksi"
   ]
  },
  {
   "cell_type": "code",
   "execution_count": null,
   "id": "18e9ee9a-8f77-4b9c-953a-6e51fbfafa74",
   "metadata": {},
   "outputs": [],
   "source": [
    "# Lasketaan etäisyyksien neliösummat arvoilla k:n arvoilla yhdestä kymmeneen\n",
    "ssd = []\n",
    "K = range(1,10)\n",
    "for k in K:\n",
    "    km = KMeans(n_clusters=k)\n",
    "    km = km.fit(reprs)\n",
    "    ssd.append(km.inertia_)"
   ]
  },
  {
   "cell_type": "code",
   "execution_count": null,
   "id": "654a6f05-25cf-4105-b79a-3125e6e52b9d",
   "metadata": {},
   "outputs": [],
   "source": [
    "# Plotataan \"kyynärpää\" matplotlib-kirjaston avulla\n",
    "plt.figure(figsize=(10,6))\n",
    "plt.plot(K, ssd, 'bx-')\n",
    "plt.xlabel('k')\n",
    "plt.ylabel('ssd')\n",
    "plt.title('Elbow Method For Optimal k')\n",
    "plt.show()"
   ]
  },
  {
   "cell_type": "markdown",
   "id": "27f04e38-4fcc-46a4-9da6-f38a78966df5",
   "metadata": {},
   "source": [
    "Kyynärpää-kuvion taitoskohdasta voidaan huomata, että optimaalinen klustereiden määrä on toden totta viisi.\n",
    "\n",
    "#### Opittua\n",
    "\n",
    "1) Ohjaamaton oppiminen on koneoppimisen menetelmä, jolla on sovelluskohteita erityisesti sellaisen datan käsittelyssä, jolle ei synny struktuuria luontaisesti (vrt. esimerkiksi twiitin sisältö vs. klikkaus / transaktio verkkokaupassa)\n",
    "2) Ohjaamattoman oppimisen tyyppiesimerkkejä ovat esimerkiksi klusterointi, aihemallinnus ja ostoskorianalyysi\n",
    "3) Ohjaamattoman oppimisen algoritmit ovat merkittävässä roolissa osana nykyajan arvokkaimpien yritysten liiketoimintaa (esimerkiksi Amazonin, Netflixin jne. suosittelualgoritmit) \n",
    "4) Vaikka ohjaamaton oppiminen nähdään usein \"korkeamman\" tason menetelmänä ohjattuun oppimiseen verrattuna, menetelmät usein täydentävät toisiaan erilaisissa käyttötilanteissa\n",
    "5) Kyynärpää-käyrän käyttö klustereiden optimaalisen lukumäärän valintaan K-means-algoritmia käytettäessä\n",
    "\n",
    "#### Kehitysideoita luentoviikolle\n",
    "\n",
    "1) Toistan itseäni, mutta kaipaisin jälleen lisää liiketoiminnan näkökulmasta relevanttien sovelluskohteiden esittelyä"
   ]
  },
  {
   "cell_type": "markdown",
   "id": "faedb143-18be-43a3-a631-adcd164d92cb",
   "metadata": {},
   "source": [
    "## Luentoviikko 7\n",
    "\n",
    "Vappuviikon kiireistä johtuen en kyennyt osallistumaan luentoviikon live-opetukseen. Syvennyin aiheeseen kuitenkin myöhemmin, sillä visuaalinen analytiikka on mielestäni erityisen mielenkiintoinen datatieteen ala. Luentoviikon 7 materiaaleissa syvennyttiin tarkastelemaan visuaalista analytiikkaa ja sen eri sovelluskohteita. Itselleni päällimmäisenä ajatuksena viikon opintosisällöstä jäi visuaalisen analytiikan merkittävä rooli osana datatiedeprosessia, mitä halusinkin pohtia tässä oppimispäiväkirjan merkinnässä tarkemmin.\n",
    "\n",
    "#### Miksi?\n",
    "\n",
    "Aivan ensiksi on mielestäni aiheellista kysyä, miksi dataa on tarve visualisoida? Eikö esimerkiksi datatuotteen (loppukäyttäjälle suunnatun ratkaisun) tapauksessa ole riittävää, että datatieteilijä tuottaa näkemyksensä kirjallisena tai suullisena raporttina, jossa hän yksinkertaisesti kertoo miltä asiat analyysin pohjalta vaikuttavat? *Ei*. Vastaus lienee jossain määrin ilmeinen, mutta sen toteaminen eksplisiittisesti korostaa datan visualisoinnista keskustelun merkityksellisyyttä. Evoluution tuloksena ihmiset ovat hyvin visuaalisia olentoja, jotka tekevät tulkintoja helpoiten näkyvästä aineistosta. Visualisaatiot tarjoavat datalle kontekstin, jonka perusteella on mahdollista hahmottaa trendejä ja syy-seuraussuhteita.\n",
    "\n",
    "#### Rooleista\n",
    "\n",
    "Ihmiset siis hahmottavat asioita helpommin visuaalisina esityksinä kuin numeroina sarakkeissa. Tämän inhimillisen ominaisuuden vuoksi datan visualisointia sovelletaan niin datatiedeprosessin aikana, kuin myös tulosten kommunikoimisen tai mahdollisen markkinakelpoisen lopputuotteen yhteydessä. Pohditaan seuraavassa kumpaankin sovelluskohteeseen liittyviä haasteita ja harkinnan paikkoja.\n",
    "\n",
    "##### 1) Visuaalinen analytiikka datatiedeprosessin aikana\n",
    "\n",
    "Kuten tämänkin oppimispäiväkirjan luentoviikon 2 koodidemon yhteydessä todettiin, visualisointia voidaan hyödyntää osana datan ensitarkastelua paremman kuvan saamiseksi aineistosta. Yksittäisten muuttujien jakaumia tutkimalla on esimerkiksi mahdollista tunnistaa vinoumia tai oudokkiarvoja, joiden käsittelemättä jättäminen johtaisi kriittisesti eriäviin tuloksiin myöhemmin analyysissa. Datatiedeprosessin aikaisella datan visualisoinnilla on merkittävä rooli eksploratiivisen analyysin yhteydessä ja sen avulla voidaan esimerkiksi pyrkiä esittämään mielekkäitä jatkokysymyksiä datasta. \n",
    "\n",
    "Datatiedeprosessin aikana tehtävään visualisointiin on nykyään käytettävissä lukuisia ohjelmia ja kirjastoja, jotka helpottavat huomattavasti datatieteilijän manuaalista koodaustyötä. Erityisesti valmiit ohjelmat (esimerkiksi Voyager) automatisoivat visualisointien rakentamisen mitä suuremmissa määrin ja jopa ehdottavat käytettäviä visualisointeja ladatun datan perusteella. Luentoviikon materiaaleissa Jeffrey Heer esittää mielenkiintoisen näkemyksen datan eksplorointiin käytettävien visualisointien automatisaatioon liittyen - Jos automatisaatiota ja interaktiivisuutta lisätään liiaksi, katoaako prosessin helppouden myötä jotain oleellista? Tilanteessa, jossa datatieteilijä ei joudu ponnistelemaan tarkoituksenmukaisen visualisoinnin aikaansaamiseksi, alkavatko analyysit ja niiden myötä muodostetut näkemykset muistuttamaan toisiaan? Omasta mielestäni tämä on täysin potentiaalinen ongelma - tarkoituksenmukaisen ja tilanteeseen räätälöidyn analyysin sijaan tyydytäänkin helppoon ja hyvän näköiseen visualisaatioon.\n",
    "\n",
    "##### 2) Visuaalinen analytiikka osana datatuotetta\n",
    "\n",
    "Tuotetaanpa datatuote sitten yrityksen sisäistä päätöksentekoa varten tai maksavalle asiakkaalle osana liiketoimintaa, datan visualisointia hyödynnetään kommunikaation välineenä. Yleisesti datatuotteen tekijä pyrkii viestimään analyysinsa tuloksista siten, että datatuotteen käyttäjä kykenisi tekemään sen perusteella päätöksiä. Kuten luento-opetuksen yhteydessä todettiin, datatieteilijä käyttää tällöin harkintaansa ja tekee päätöksiä siitä, millä tavalla hän datan esittää. Näin tehdessään visualisaation luojan on otettava huomioon ihmisten rajallisten kognitiivisten kykyjen asettamia rajoitteita ja harhoja (esimerkiksi vaikeus hahmottaa ei lineaarisia riippuvuuksia, vrt. pinta-ala), sekä informaation saavutettavuuteen liittyviä tekijöitä (esimerkiksi käytettävät värit värisokeuden kannalta).\n",
    "\n",
    "Eräs datan visualisointia toteuttavan datatieteilijän oleellisista harkinnan paikoista liittyy datatuotteiden interaktiivisuuteen, eli siihen, millä tavalla loppukäyttäjän on mahdollista vuorovaikuttaa tuotteen kanssa. Onko tarkoituksenmukaista tuottaa staattinen raportti, vai teknisesti edistyneempi porautumis- ja cross-filtering-ominaisuuksilla varustettu kojelauta? Datatieteilijän lienee tarpeen pohtia ainakin datatuotteen käyttäjän kyvykkyyksiä ja itse tuotteen käyttötilannetta. Tarkasteleeko käyttäjä / päätöksentekijä tuotetta itsenäisesti, vai onko datatieteilijän mahdollista esitellä tuotteen toiminnallisuuksia esimerkiksi palaverissa? Edistyneillä interaktiivisilla ominaisuuksilla varustettu datatuote saattaa väärin käytettynä johtaa virheellisiin tulkintoihin ja haaskattuihin resursseihin.\n",
    "\n",
    "##### Yhteenvetona\n",
    "\n",
    "Visuaalinen analytiikka voidaan mielestäni nähdä kenties merkittävimpänä osana datatiedeprosessia - se mahdollistaa paitsi tutkittavan datan paremman ymmärtämisen, myös analyysin tulosten kommunikoimisen. Tämä puolestaan on kriittistä, kun ajatellaan analyysin tulosten kommunikointia osana laajempaa datatiedeprosessia. Selvää lienee, että mikäli datan keräämisen, jalostamisen ja mallintamisen tuloksena saadut näkemykset eivät välity uskottavasti päätöksentekijöille, on edellä kuvattuihin toimiin käytetyt resurssit käytännössä katsoen hukattu.\n",
    "\n",
    "https://analytiks.co/importance-of-data-visualization/\n",
    "\n",
    "https://www.visualcapitalist.com/every-single-cognitive-bias/\n",
    "\n",
    "#### Koodidemo - Visuaalinen analytiikka analyysin tukena\n",
    "\n",
    "Tarkoituksenani oli tutkia Voyager-visualisointiohjelman toiminnallisuuksia. En kuitenkaan onnistunut saamaan Voyagerin Jypyter Lab -laajennusta toimimaan, joten minun oli tyytyminen vakiintuneempiin teknologioihin. Pyrin tarkastelemaan jo melko tutuksi tullutta verkkokaupan datasettiä visuaalisen analytiikan keinoin ja tällä tavoin esittämään jatkokysymyksiä datasettiin liittyen."
   ]
  },
  {
   "cell_type": "code",
   "execution_count": 19,
   "id": "f083b289-5a4f-49ee-969b-fdc7bb9edf84",
   "metadata": {},
   "outputs": [],
   "source": [
    "import seaborn as sns\n",
    "import datetime\n",
    "import calendar"
   ]
  },
  {
   "cell_type": "code",
   "execution_count": 22,
   "id": "7a08838b-7e7f-4e2a-b089-b2cae8c6881e",
   "metadata": {},
   "outputs": [
    {
     "name": "stdout",
     "output_type": "stream",
     "text": [
      "<class 'pandas.core.frame.DataFrame'>\n",
      "RangeIndex: 541909 entries, 0 to 541908\n",
      "Data columns (total 9 columns):\n",
      " #   Column       Non-Null Count   Dtype         \n",
      "---  ------       --------------   -----         \n",
      " 0   InvoiceNo    541909 non-null  object        \n",
      " 1   StockCode    541909 non-null  object        \n",
      " 2   Description  540455 non-null  object        \n",
      " 3   Quantity     541909 non-null  int64         \n",
      " 4   InvoiceDate  541909 non-null  datetime64[ns]\n",
      " 5   UnitPrice    541909 non-null  float64       \n",
      " 6   CustomerID   406829 non-null  float64       \n",
      " 7   Country      541909 non-null  object        \n",
      " 8   TotalPrice   541909 non-null  float64       \n",
      "dtypes: datetime64[ns](1), float64(3), int64(1), object(4)\n",
      "memory usage: 37.2+ MB\n"
     ]
    }
   ],
   "source": [
    "# Muunnetaan sarakkeita visualisointia varten\n",
    "data[\"TotalPrice\"] = data[\"UnitPrice\"] * data[\"Quantity\"]\n",
    "data['InvoiceDate'] = pd.to_datetime(data['InvoiceDate'])\n",
    "data.info()"
   ]
  },
  {
   "cell_type": "code",
   "execution_count": 23,
   "id": "bc0e8f8b-ec14-469e-8268-a88195c1a250",
   "metadata": {},
   "outputs": [
    {
     "data": {
      "image/png": "[encoded data removed]",
      "text/plain": [
       "<Figure size 1080x360 with 2 Axes>"
      ]
     },
     "metadata": {},
     "output_type": "display_data"
    }
   ],
   "source": [
    "# Visualisoidaan myyty kappalemäärä (\"volyymi\"), sekä myyynti päivittäin.\n",
    "fig, ax = plt.subplots(nrows=1, ncols=1,figsize=(15,5))\n",
    "sns.set_style(\"whitegrid\")\n",
    "\n",
    "week = data[data['TotalPrice']>=0][['InvoiceDate','TotalPrice','Quantity']]\n",
    "week = week.groupby(week['InvoiceDate'].dt.weekday)[['TotalPrice','Quantity']].sum()\n",
    "week = week.reset_index()\n",
    "week['Week'] = week['InvoiceDate'].apply(lambda x: calendar.day_name[x])\n",
    "\n",
    "sns.lineplot(data = week, x=week.Week, y='Quantity', marker='o', sort = False, ax=ax)\n",
    "ax2 = ax.twinx()\n",
    "sns.barplot(data = week, x=week.Week, y='TotalPrice', alpha=0.5, ax=ax2)\n",
    "fig.suptitle('Revenue and Sales Quantity by Week Day',fontsize=16)\n",
    "\n",
    "plt.show()"
   ]
  },
  {
   "cell_type": "markdown",
   "id": "8dd2e471-125f-4b79-be41-5576d06a2d4e",
   "metadata": {},
   "source": [
    "Huomataan, että myyntiä tapahtuu eniten tiistaisin ja torstaisin. Miksi näin on? Miten myyntiä voitaisiin lisätä / tasata myös muille viikonpäiville?"
   ]
  },
  {
   "cell_type": "markdown",
   "id": "0e97345a-4cb3-4790-9a03-f8d3275c51eb",
   "metadata": {},
   "source": [
    "#### Opittua\n",
    "\n",
    "1) Visuaalista analytiikkaa voidaan hyödyntää iteratiivisesti useissa datatiedeprosessin vaiheissa\n",
    "2) Datan visualisointiin on käytössä runsaasti valmiita ratkaisuja, mutta niiden käyttö edellyttää tarkoituksenmukaisuutta ja harkintaa\n",
    "3) Visualisaation tyypillä ja laadulla on merkitystä - ihmismieli on taipuvainen kognitiivisiin harhoihin, jotka vaikuttavat esitettävän informaation tulkintaan\n",
    "4) Interaktiivisuus on visualisaatioiden yhteydessä kaksiteräinen miekka: se antaa datatuotteen käyttäjälle vapauksia, mutta myös lisää virheellisten tulkintojen riskiä\n",
    "5) Seaborn ja Matplotlib ovat käyttökelpoisia teknologioita erityisesti datatiedeprosessin aikaisten nopeiden visualisaatioiden luomiseen\n",
    "\n",
    "#### kehitysideoita luentoviikolle\n",
    "\n",
    "1) Mielestäni useampi käytännön esimerkki selkeyttäisi visualisaatioiden tarjoamia hyötyjä ja mahdollisuuksia entisestään. Ajatusprosessi tietynlaisen visualisaation rakentamisen taustalla olisi myös mielekästä käydä läpi."
   ]
  },
  {
   "cell_type": "code",
   "execution_count": null,
   "id": "01f5b6ce-ef7a-4629-9b49-21839d8d5176",
   "metadata": {},
   "outputs": [],
   "source": []
  }
 ],
 "metadata": {
  "kernelspec": {
   "display_name": "Python 3 (ipykernel)",
   "language": "python",
   "name": "python3"
  },
  "language_info": {
   "codemirror_mode": {
    "name": "ipython",
    "version": 3
   },
   "file_extension": ".py",
   "mimetype": "text/x-python",
   "name": "python",
   "nbconvert_exporter": "python",
   "pygments_lexer": "ipython3",
   "version": "3.10.2"
  }
 },
 "nbformat": 4,
 "nbformat_minor": 5
}
