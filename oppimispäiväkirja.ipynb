{
 "cells": [
  {
   "cell_type": "markdown",
   "id": "8451902c-a8fb-4af3-b7ae-418e039a0515",
   "metadata": {
    "tags": []
   },
   "source": [
    "# **Oppimispäiväkirja**"
   ]
  },
  {
   "cell_type": "markdown",
   "id": "1b8eb35e-519f-4171-b2f8-af74e5278cd9",
   "metadata": {
    "tags": []
   },
   "source": [
    "**Tämä dokumentti toimii oppimispäiväkirjana / harjoitystyönä opintojaksolle TIJO.222 Johdanto Datatieteeseen. Oppimispäiväkirjan tarkoituksena voitaneen pitää luentoviikon asioiden pohtimista erilaisista näkökulmista, sekä oman oppimisen seuraamista.**\n",
    "\n",
    "# Luentoviikko 1 - Aloittelua\n",
    "\n",
    "Huom! Aiheen pohjustuksesta johtuen ensimmäisen viikon luku on huomattavasti ekstensiivisempi kuin myöhempien viikkojen luvut.\n",
    "\n",
    "Kiltatoiminnan ja valitettavaan ajankohtaan sijoittuneen työhaastattelun vuoksi en kyennyt osallistumaan ensimmäisen viikon luennoille läsnä. Onneksi luentojen seuraaminen onnistui kuitenkin myös jälkikäteen. Ensimmäinen luentoviikko pyrki esittelemään kurssin aihepiiriä kokonaisuutena, sekä paneutumaan tarkemmin joihinkin datatieteessä hyödynnettäviin työkaluihin ja teknologioihin. Ohjelmointiharjoitusten puolella jatkettiin keskeisiin teknologioihin (Python ja JupyterLab) tutustumista, sekä harjoiteltiin tabulaarisen datan käsittelyä.\n",
    "\n",
    "#### Mitä on datatiede? Entä kuka on Datatieteilijä?\n",
    "\n",
    "Siitä huolimatta, että olen opiskellut lukuisia aihetta sivuavia kursseja yliopisto-opintojeni aikana, datatiede käsitteenä on vaikuttanut minusta jossain määrin sekavalta. Lukemattomat prosessikaaviot ja sanapilvet ovat viljelleet minulle tuntemattomia käsitteitä, joiden määritelmät ovat vaikuttaneet epämääräisiltä ja rinnakkaisilta. Eräs blogikirjoitus esittääkin datieteen määritelmän epämääräisyyden huvittavasti karrikoiden - *\"Statistics dressed up in fancy clothes\"* tai *\"Statistics on a Mac\"* (Hale, 2020).\n",
    "\n",
    "Ennalta minullekin on ollut selvää vain, että datatieteen yhteydessä voidaan hyödyntää ohjelmointia, ja että sen tavoitteena on tutkia dataa ja tehdä päätelmiä sen pohjalta. Pitkälti tällä tavoin datatiede usein tiivistetäänkin. Omasta näkökulmastani kokonaisuuden ymmärrystä helpottaa datatieteen jakaminen sille tyypillisiin osaamisalueisiin. Oppimateriaalissa esitetty jako ohjelmointiin, tilastotieteeseen, sekä liiketoiminta- ja viestintäosaamiseen havainnollistaa datatieteilijän roolin moninaisuutta.\n",
    "\n",
    "<img src=\"C:\\Users\\Omistaja\\JODA_2022\\roles.png\" width=600 height=600 />\n",
    "\n",
    "Datatieteilijä, datainsinööri vai data-analyytikko? Erityistä uutuusarvoa koin perehtyessäni datatieteilijän rooliin verrattuna muihin data-ammattilaisten nimikkeisiin. Ymmärrykseni mukaan datatieteilijä ei sijoittuisi täysin perinteiselle \"technical - business\" -spektrille. Datatieteilijä hankkii pitkälti oman datansa (vrt. datainsinööri) ja on vastuussa myös sen jalostamisesta ja esittelemisestä päätöksentekijöille (vrt. data- / business analyst). Datatieteilijä vaikuttaa toimivan tietynlaisena \"uudisraivaajana\", joka etsii uusia tapoja kerätä dataa ja tuottaa siitä näkemyksiä.\n",
    "\n",
    "#### Ohjelmoinnin rooli datatieteessä\n",
    "\n",
    "Kuten edellä totesin, datatieteilijä vastaa usein itse myös analyysiprosessin teknisemmistä vaiheista, kuten datan keräämisestä. Kyseisessä vaiheessa voi olla tarpeen kerätä dataa suoraan verkkosivulta esimerkiksi ohjelmointirajapinnan (API) avulla tai noutaa ja yhdistellä dataa useammasta relaatiotietokannasta SQL-kyselykielen avulla. Uskoakseni tämä korostaa ohjelmointitaidon merkitystä yhtenä datatieteilijän tärkeimmistä osaamisalueista.\n",
    "\n",
    "Ohjelmointi- ja tietokantaosaaminen on läsnä myös muissa data-analyysiprosessin (esim. CRISP-DM) vaiheissa. Datan ymmärtämisessä (data understanding), joka kattaa paitsi datan keräämisen, myös sen kuvailemisen ja laadun varmistamisen, voidaan hyödyntää esimerkiksi python- tai R-ohjelmointikieliä. Datan valmistelussa (data preparation), eli datan putsaamisessa ja muuntamisessa oikeaan muotoon voidaan vastaavasti käyttää esimerkiksi SQL-kieltä (jos datasetti on liian suuri taulukkolaskentaohjelmalla käsiteltäväksi). Datan mallintamisessa (data modelling) käytetyt tekniikat ja teknologiat vaihtelevat suuresti analyysin kontekstista riippuen, mutta mallien rakentamisessa käytetään laajalti Python-ohjelmointikieltä. MatLab ja R-ohjelmointikielet ovat myös suosittuja, sillä ne ovat luotu juuri datan analysointia varten (vrt. Python yleisenä ohjelmointikielenä)\n",
    "\n",
    "\n",
    "#### Datatieteen työkaluja\n",
    "\n",
    "Lienee siis selvää, että ohjelmointiosaaminen on datatieteilijälle kriittistä. Ensimmäisen luentoviikon aikana tutustuttiinkin hieman lähemmin joihinkin datatieteilijöiden usein hyödyntämiin työkaluihin - JupyterLab-ohjelmointiympäristöön, sekä jo edellä mainittuun Python-ohjelmointikieleen.\n",
    "\n",
    "JupyterLab on datatietelijöiden keskuudessa suosittu verkkopohjainen ohjelmointiympäristö, joka mahdollistaa nopean ja iteratiivisen analyysien kehittämisen ja dokumentoinnin yhdistelemällä koodia, sen ulostuloa, sekä Markdown-syntaksilla kirjoitettua tekstiä (ja muita elementtejä kuten kuvia, ks. ylhäällä). JupyterLab ympäristössä ohjelmointi vaikuttaa eroavan huomattavasti ns. tuotanto-ohjelmoinnista, jota ohjelmoinnin peruskurssillakin harjoiteltiin PyCharm-ympäristössä. Muistion kaltaisella alustalla analyysien kehittäminen ja testaaminen on nopeaa, eikä sitä varten ole tarvetta rakentaa esimerkiksi ohjelman runkoa. Muistio mahdollistaa myös analyysien helpon ja näyttävän jakamisen kollegoille, joiden ei tarvinnne olla teknisesti orientoituneita voidakseen käyttää ja ymmärtää muistion sisältöä.\n",
    "\n",
    "Python puolestaan on minullekin ohjelmoinnin peruskurssin kautta tuttu monikäyttöinen (general purpose) ohjelmointikieli, joka on tunnettu sen intuitiivisesta, aloittelijoille suunnatusta syntaksista ja käyttökokemuksesta. Pythonin vahvuutena datatieteessä on sen laajennettavuus kehittäjäyhteisön luomien kirjastojen avulla. Datatietessä käytetyimpiä kirjastoja ovat Pandas, NumPy, Matplotlib ja Scikit-learn. Pandas ja NumPy ovat erityisen käyttökelpoisia numeerisen ja tabulaarimuotoisen datan käsittelyssä ja analysoinnissa. Matplotlib puolestaan on käytetty sen\n",
    "visualisointikyvykkyyksien vuoksi. Scikit-learn on erityisesti koneoppimisen tehtäviä varten luotu kirjasto.\n",
    "\n",
    "https://avoin-data-opas.github.io/python\n",
    "\n",
    "https://viikonvalo.fi/jupyter_notebook/\n",
    "#### Omasta osaamisestani ja oppimistavoitteista\n",
    "\n",
    "Palatakseni datatieteilijän osaamisaluiden Venn-diagrammiin, itselläni on suorittamineni tuotantotalouden pääaineopintojen myötä karttunut tietoa erityisesti liiketoiminnan näkökulmasta. Minulla on esimerkiksi perustavaa laatua olevaa ymmärrystä, miten tuotteiden tai palvelujen kannattavuus muodostuu, tai millä tavalla yrityksen on mahdollista differoida tarjoomaansa kilpailuilla markkinoilla. Perustavaa laatua olevan liiketoimintaymmärryksen lisäksi uskon, että datatieteilijä tarvitsee usein myös spesifimpää, toimialakohtaista liiketoimintaymmärrystä - esimerkiksi, miten asiakkaan kokema arvo muodostuu ohjelmistokonsultoinnissa.\n",
    "\n",
    "Suorittamieni datateknologian sivuaineopintojen ansiosta minulla on hieman ymmärrystä myös tilastotieteen menetelmistä, joista uskon olevan hyötyä niiden käyttöön liittyvän intuition kehittämisessä. Edelleen tunnistan, että minulla on varmastikin vähäisintä osaamista ohjelmoinnin ja datalähtöisen viestinnän saroilta. Eräiksi oppimistavoitteikseni määrittelisinkin osaamiseni kasvattamisen juuri näillä datatieteen osa-alueilla. Kaikkein keskeisimpänä oppimistavoitteena näkisin kuitenkin kaikkien edellä mainittujen osa-alueiden yhteensovittamisen ja ymmärryksen siitä, miten datatiede-projekti viedään ongelman / mahdollisuuden tunnistamisesta aina suositusten tekemiseen ja esittämiseen saakka.\n",
    "\n",
    "#### Luentoviikon 1 koodidemo\n",
    "\n",
    "Käytetään luentoviikon 1 koodidemon yhteydessä datasettiä, joka sisältää erään brittiläisen verkkokaupan transaktiodataa vuosilta 2010-2011. Datasetti on löydettävissä ja ladattavissa [täältä](https://www.kaggle.com/carrie1/ecommerce-data)."
   ]
  },
  {
   "cell_type": "code",
   "execution_count": 53,
   "id": "2f0a51d9-a507-45e6-9cf9-33984fa15691",
   "metadata": {},
   "outputs": [
    {
     "name": "stdout",
     "output_type": "stream",
     "text": [
      "ecommerce-data.zip: Skipping, found more recently modified local copy (use --force to force download)\n"
     ]
    }
   ],
   "source": [
    "# Käytetään Kaggle API:tä datasetin lataamiseen. Shell-komentojen edessä on käytettävä !-merkkiä.\n",
    "!kaggle datasets download -d carrie1/ecommerce-data"
   ]
  },
  {
   "cell_type": "code",
   "execution_count": 28,
   "id": "f7fb9eb5-6ec5-4ddc-990b-0f2051a9e93e",
   "metadata": {},
   "outputs": [],
   "source": [
    "# Ladattu tiedosto on .zip-muodossa. Ladataan tiedoston purkamista varten  Pythonin zipfile-kirjasto.\n",
    "import zipfile\n",
    "\n",
    "# Määritellään avattava tiedosto ja avatun tiedoston sijoitus\n",
    "file_to_unzip = \"ecommerce-data.zip\"\n",
    "directory_to_extract_to = r\"C:\\Users\\Omistaja\"\n",
    "\n",
    "# Avataan .zip-tiedosto ZipFile-funktiolla\n",
    "with zipfile.ZipFile(file_to_unzip, 'r') as zip_ref:\n",
    "    zip_ref.extractall(directory_to_extract_to)"
   ]
  },
  {
   "cell_type": "code",
   "execution_count": 29,
   "id": "ee582be0-14fd-4318-b277-03339ca77a9a",
   "metadata": {},
   "outputs": [],
   "source": [
    "# Koska tiedoston nykyinen nimi \"data.csv\" ei kuvaa sen nimeä riittävästi, käytetään\n",
    "# Shell-komentoa sen uudelleen nimeämiseksi.\n",
    "!rename data.csv ecommerce_data.csv"
   ]
  },
  {
   "cell_type": "code",
   "execution_count": 39,
   "id": "a2280724-38be-4bbf-b14b-faef9c073c0c",
   "metadata": {},
   "outputs": [
    {
     "data": {
      "text/html": [
       "<div>\n",
       "<style scoped>\n",
       "    .dataframe tbody tr th:only-of-type {\n",
       "        vertical-align: middle;\n",
       "    }\n",
       "\n",
       "    .dataframe tbody tr th {\n",
       "        vertical-align: top;\n",
       "    }\n",
       "\n",
       "    .dataframe thead th {\n",
       "        text-align: right;\n",
       "    }\n",
       "</style>\n",
       "<table border=\"1\" class=\"dataframe\">\n",
       "  <thead>\n",
       "    <tr style=\"text-align: right;\">\n",
       "      <th></th>\n",
       "      <th>InvoiceNo</th>\n",
       "      <th>StockCode</th>\n",
       "      <th>Description</th>\n",
       "      <th>Quantity</th>\n",
       "      <th>InvoiceDate</th>\n",
       "      <th>UnitPrice</th>\n",
       "      <th>CustomerID</th>\n",
       "      <th>Country</th>\n",
       "    </tr>\n",
       "  </thead>\n",
       "  <tbody>\n",
       "    <tr>\n",
       "      <th>0</th>\n",
       "      <td>536365</td>\n",
       "      <td>85123A</td>\n",
       "      <td>WHITE HANGING HEART T-LIGHT HOLDER</td>\n",
       "      <td>6</td>\n",
       "      <td>12/1/2010 8:26</td>\n",
       "      <td>2.55</td>\n",
       "      <td>17850.0</td>\n",
       "      <td>United Kingdom</td>\n",
       "    </tr>\n",
       "    <tr>\n",
       "      <th>1</th>\n",
       "      <td>536365</td>\n",
       "      <td>71053</td>\n",
       "      <td>WHITE METAL LANTERN</td>\n",
       "      <td>6</td>\n",
       "      <td>12/1/2010 8:26</td>\n",
       "      <td>3.39</td>\n",
       "      <td>17850.0</td>\n",
       "      <td>United Kingdom</td>\n",
       "    </tr>\n",
       "    <tr>\n",
       "      <th>2</th>\n",
       "      <td>536365</td>\n",
       "      <td>84406B</td>\n",
       "      <td>CREAM CUPID HEARTS COAT HANGER</td>\n",
       "      <td>8</td>\n",
       "      <td>12/1/2010 8:26</td>\n",
       "      <td>2.75</td>\n",
       "      <td>17850.0</td>\n",
       "      <td>United Kingdom</td>\n",
       "    </tr>\n",
       "    <tr>\n",
       "      <th>3</th>\n",
       "      <td>536365</td>\n",
       "      <td>84029G</td>\n",
       "      <td>KNITTED UNION FLAG HOT WATER BOTTLE</td>\n",
       "      <td>6</td>\n",
       "      <td>12/1/2010 8:26</td>\n",
       "      <td>3.39</td>\n",
       "      <td>17850.0</td>\n",
       "      <td>United Kingdom</td>\n",
       "    </tr>\n",
       "    <tr>\n",
       "      <th>4</th>\n",
       "      <td>536365</td>\n",
       "      <td>84029E</td>\n",
       "      <td>RED WOOLLY HOTTIE WHITE HEART.</td>\n",
       "      <td>6</td>\n",
       "      <td>12/1/2010 8:26</td>\n",
       "      <td>3.39</td>\n",
       "      <td>17850.0</td>\n",
       "      <td>United Kingdom</td>\n",
       "    </tr>\n",
       "  </tbody>\n",
       "</table>\n",
       "</div>"
      ],
      "text/plain": [
       "  InvoiceNo StockCode                          Description  Quantity  \\\n",
       "0    536365    85123A   WHITE HANGING HEART T-LIGHT HOLDER         6   \n",
       "1    536365     71053                  WHITE METAL LANTERN         6   \n",
       "2    536365    84406B       CREAM CUPID HEARTS COAT HANGER         8   \n",
       "3    536365    84029G  KNITTED UNION FLAG HOT WATER BOTTLE         6   \n",
       "4    536365    84029E       RED WOOLLY HOTTIE WHITE HEART.         6   \n",
       "\n",
       "      InvoiceDate  UnitPrice  CustomerID         Country  \n",
       "0  12/1/2010 8:26       2.55     17850.0  United Kingdom  \n",
       "1  12/1/2010 8:26       3.39     17850.0  United Kingdom  \n",
       "2  12/1/2010 8:26       2.75     17850.0  United Kingdom  \n",
       "3  12/1/2010 8:26       3.39     17850.0  United Kingdom  \n",
       "4  12/1/2010 8:26       3.39     17850.0  United Kingdom  "
      ]
     },
     "execution_count": 39,
     "metadata": {},
     "output_type": "execute_result"
    }
   ],
   "source": [
    "# Koska .csv-tiedosto on nyt tallennettu paikalliseksi tiedostoksi, voidaan sen avaaamiseen\n",
    "# käyttää yksinkertaisesti tiedostonimeä.\n",
    "data = pd.read_csv(\"ecommerce_data.csv\",encoding='latin1')\n",
    "data.head()"
   ]
  },
  {
   "cell_type": "code",
   "execution_count": 52,
   "id": "ea8c3e97-bf3e-419b-ac60-b1f31bd5595b",
   "metadata": {},
   "outputs": [
    {
     "data": {
      "text/plain": [
       "541909"
      ]
     },
     "execution_count": 52,
     "metadata": {},
     "output_type": "execute_result"
    }
   ],
   "source": [
    "len(data[\"InvoiceNo\"])"
   ]
  },
  {
   "cell_type": "code",
   "execution_count": null,
   "id": "71ea4596-60a4-4dab-9749-d92299805d88",
   "metadata": {},
   "outputs": [],
   "source": [
    "# What are the most sold / popular products?\n",
    "# How are the prices of items distrtibuted? (Check the range, then divide into segments, plot counts by price segment)"
   ]
  },
  {
   "cell_type": "code",
   "execution_count": 44,
   "id": "cb51f76f-05c1-4225-b827-5285342e1022",
   "metadata": {},
   "outputs": [
    {
     "data": {
      "text/plain": [
       "<AxesSubplot:xlabel='CustomerID', ylabel='CustomerID'>"
      ]
     },
     "execution_count": 44,
     "metadata": {},
     "output_type": "execute_result"
    },
    {
     "data": {
      "image/png": "[encoded data removed]",
      "text/plain": [
       "<Figure size 432x288 with 1 Axes>"
      ]
     },
     "metadata": {
      "needs_background": "light"
     },
     "output_type": "display_data"
    }
   ],
   "source": [
    "# Datasetin ominaisuuksia voidaan tutkia ja kuvailla erilaisilla keinoilla.\n",
    "# Käytetään matplotlib-kirjaston visualisointia oudokkien etsimiseksi UnitPrice-sarakkeesta\n",
    "\n",
    "data.plot.scatter(x=6,y=6)"
   ]
  },
  {
   "cell_type": "code",
   "execution_count": 40,
   "id": "7eb338d4-15f6-448b-a288-7b1daa05553c",
   "metadata": {},
   "outputs": [],
   "source": [
    "# Ladataan ensin vaadittavat kirjastot\n",
    "import pandas as pd\n",
    "import matplotlib.pyplot as plot\n",
    "from matplotlib import style"
   ]
  },
  {
   "cell_type": "code",
   "execution_count": null,
   "id": "eea924a4-3ffe-43ce-a2ac-f70d44b228dd",
   "metadata": {},
   "outputs": [],
   "source": [
    "# Ladataan käytettävä datasetti .csv-muodossa käyttäen hyväksi pandas-kirjaston read_csv-funtiota\n",
    "url = "
   ]
  },
  {
   "cell_type": "markdown",
   "id": "18a125b3-df08-4fe8-972c-10de1d2b60b2",
   "metadata": {
    "tags": []
   },
   "source": [
    "#### Luentoviikon 1 oivallukset\n",
    "\n",
    "Mitä siis lopulta opin ensimmäisen luentoviikon aikana? Tiivistäisin keskeiset oivallukset seuraavasti:\n",
    "\n",
    "1) Datatiede vaaatii monialaista osaamista, joista ohjelmointiosaaminen on kenties kriittisin\n",
    "2) JupyterLab on datatieteen ja data-analyysiprosessin iteratiivisen luonteen vuoksi erityisen käyttökelpoinen ohjelmointiympäristö\n",
    "3) Python-ohjelmointikielen yleisestä luonteesta huolimatta se on hyvin käytetty työkalu datatieteen parissa\n",
    "4) Raakadata, toisinaan jopa tietokannasta kyselyn avulla hankittu data, on usein virheellistä - esimerkiksi datan formaatti / tyyppi saattaa muuttua\n",
    "5) Datan visualisointia voidaan hyödyntää paitsi analyysin lopputulosten esittelyyn, myös osana datan alkuvaiheen tutkimusta ja kuvailua\n",
    "\n",
    "1) Mitä on datatiede? Data Science -prosessi ja Datatieteilijä\n",
    "2) JupyterLab / Notebook - Miksi sitä kannattaa käyttää?\n",
    "3) Datatieteen työkaluista (ohjelmoinnin rooli, mitä teknologioita, erilaisia paketteja)\n",
    "4) Datan käsittelyn perusteita - tutkimista, siivoamista ja muuntamista\n",
    "5) Helpot ja nopeat visualisaatiot\n",
    "6) Datan tutkimisen ja ymmärtämisen merkityksestä\n",
    "\n",
    "Sisällys:\n",
    "\n",
    "Data Science -prosessi ja Datatieteilijä\n",
    "- Erilaisten osaamisalueiden merkityksestä?\n",
    "- Data Scientist vs. Data Analyst\n",
    "\n",
    "Mikä on JupyterLab / Notebook? Miksi sitä kannattaa käyttää?\n",
    "- Kehitysympäristön luominen\n",
    "- Pythonin asentaminen PATH:iin\n",
    "\n",
    "Erilaisista paketeista?\n",
    "- Käyttötarkoituksia\n",
    "\n",
    "Datan tutkimista, siivoamista ja muuntamista\n",
    "- datatyyppejä ja funktioita\n",
    "- esimerkkejä / käyttötilanteita\n",
    "\n",
    "Helpot / nopeat visualisaatiot\n",
    "- Käyttötarkoituksia (nopea kuva datasta, poikkeamat / oudokit)\n",
    "\n",
    "[What is Data Science?](https://towardsdatascience.com/what-is-data-science-8c8fbaef1d37)\n",
    "\n",
    "[Getting Started with JupyterLab | SciPy 2019 Tutorial | M. Bussonnier, J. Grout, S. Stattel](https://www.youtube.com/watch?v=RFabWieskak)\n",
    "\n",
    "[Top Tools for Data Exploration and Visualization With Their Pros and Cons](https://neptune.ai/blog/data-exploration-and-visualization-best-tools)"
   ]
  },
  {
   "cell_type": "code",
   "execution_count": 46,
   "id": "0b098b35-c0af-4740-884c-df4a1e2355bc",
   "metadata": {},
   "outputs": [],
   "source": [
    "!pip install pandas --quiet\n",
    "!pip install matplotlib --quiet\n",
    "import pandas as pd"
   ]
  },
  {
   "cell_type": "code",
   "execution_count": null,
   "id": "1abf0c0b-54a4-4772-a388-109916551e2f",
   "metadata": {},
   "outputs": [],
   "source": []
  },
  {
   "cell_type": "markdown",
   "id": "abe4303f-c407-48c7-abac-c1c409b49e7c",
   "metadata": {},
   "source": [
    "# Luentoviikko 2 - Datan kerääminen ja käsittely\n",
    "\n",
    "Työnhakuun ja kiltatoimintaan liittyvien kiireiden vuoksi en kyennyt seuraamaan toisen luentoviikon opetusta paikan päällä. Teinkin itselleni lupauksen, että pyrkisin järjestämään aikaa osallistua kolmannen viikon luennolle.\n",
    "\n",
    "Kokonaisuutena luentoviikko 2 pyrki syventämään ymmärrystä datan keräämiseen liittyvistä menetelmistä ja datan käsittelystä osana datatieteen / -analytiikan prosessia. Pintapuolisesti sivuttiin muun muassa ohjelmointirajapintojen (API) käyttöä datan keräämisessä, sekä joitain niiden käytössä ilmeneviä haasteita. Koodiklinikan puolella perehdyttiin tarkemmin raapijoiden käyttöön datan keräämisessä verkkosivustoilta.\n",
    "\n",
    "#### Ohjelmointirajapinnat datatieteessä\n",
    "\n",
    "Ohjelmointirajapinnat (API) ovat  mielestäni äärettömän kiinnostavia. Niiden kautta on lyhyellä koodipätkällä / scriptillä mahdollista päästä käsiksi valtaviin määriin dataa tai toisen tietokoneen laskentakykyä. Mielenkiintoani aihetta kohtaan kasvattaa yhä se, että tulevan kesätyöpaikkani, erään tamperelaisen start-up yrityksen kehittämä SaaS-ohjelmisto perustuu pitkälti ohjelmointirajapintojen hyödyntämiseen.\n",
    "\n",
    "API:t ovatkin mahdollistaneetaivan uudenlaisten liiketoimintamallien kehittämisen ja ns. datatalouden syntymisen. Skaalaetujen ja erikoistumisen tuomien kilpailuetujen vuoksi datan keräämisessä ja muokkaamisessa harjaantuneet yritykset voivat myydä dataansa rajapintojen kautta. Keskustellessani asiasta tulevan työnantajani kanssa he kertoivat vertailleensa erilaisia datan toimittajia, joista eräät saattoivat laskuttaa €250 k vuodessa heidän API:nsä käytöstä. Data vaikuttaa olevan yhä merkittävämpi resurssi monien yritysten liiketoiminnassa, minkä vuoksi sitä onkin karrikoiden kutsuttu \"nykypäivän öljyksi\"\n",
    "\n",
    "Miksi API:t sitten ovat käteviä datatieteen yhteydessä? Uskoakseni API:n luoma arvo perustuu pitkälti siihen, että ne mahdollistavat sellaisen tiedon saatavuuden, jonka kerääminen itse olisi hyvin vaikeaa tai jopa mahdotonta. Esimerkiksi väyläviraston avoimien rajapintojen kautta on mahdollista saada paikkatietoja vesialusten liikkumisesta Suomenlahdella. Tämän tiedon kerääminen vaikkapa kiikarien ja muistilehtiön avulla lienee huomattavasti tehottomampaa. Yksinkertaistettuna kyse lienee erikoistumisen tuomista eduista.\n",
    "\n",
    "#### Korvaako määrä laatua?\n",
    "\n",
    "Kuten todettua, ohjelmointirajapintojen kautta on mahdollista päästä käsiksi suuriin määriin dataa. On kuitenkin mahdollista, että rajapinnan avulla (tai vastaavasti monella muulla tavalla) kerätty data on laadultaan huonoa. Datan siirtämisen yhteydessä mahdollisesti ilmeneviä ongelmia ovat esimerkiksi datan puuttuminen, kahdenkertaisten arvojen esiintyminen, sekä dataformaattien vääristyminen.\n",
    "\n",
    "Laadulaan puutteellinen data on ongelmallista yksinkertaisesta syystä, joka usein tiivistetään seuraavasti - garbage in garbage out. Virheellisen / puutteellisen datan analysoiminen tuottaa virheellisiä päätelmiä, jotka edelleen johtavat virheellisiin liiketoimintaa koskeviin päätöksiin. Huonolaatuisesta datasta aiheutuvien kustannusten on arvioitu olevan Yhdysvalloissa $3.1 B vuosittain. (HBR, 2016) Kuten edellä totesin, datan merkitys ja tarve tietoperusteiselle päätöksenteolle on monilla toimialoilla yhä suurempaa, mikä nähdäkseni luo yhä suurempaa tarvetta laadukkaalle datalle.\n",
    "\n",
    "Eräs luennolla esiin tullut aihe, joka osittain sivuaa havaintoa laadukkaan datan merkitystä, on smart datan käsite. Termin ollessa verrattain uusi sen määritelmät vaihtelevat, mutta yleisesti on kyse datasta, jonka korkea laatu varmistetaan jo sen \"alkulähteellä\", eli keräämisen yhteydessä. Ideana tämä tuntuu intuitiiviselta, sillä on selvää, että valtavien siivoamattomien datamassojen kerääminen ja liikuttelu kuluttaa rajallisisa resursseja, kuten tallennustilaa ja laskentatehoa. Muun muassa Etlan (2021) tutkimus pyrki selvittämään kasvavan dataliikenteen vaikutusta sähkönkulutukseen ja totesi raportissaan, että hyödynnettävien teknologioiden energiatehokkuus ei ole kasvanut datan kulutuksen kasvun tahdissa.\n",
    "\n",
    "#### Datan käsittelyn / putsaamisen merkityksestä\n",
    "\n",
    "Laadultaan huono data johtaa siis vääriin ja potentiaalisesti haitallisiin yrityksen liiketoimintaa koskeviin päätöksiin, sekä kuluttaa turhaan rajallisia resurssejamme. Lienee selvää, että nämä havainnot korostavat datan putsaamisen ja muuntamisen merkitystä osana datatieteen prosessia. Luentoviikon opetuksen yhteydessä esiteltiin joitain täsmällisempiä työvaiheita, jotka tähtäävät tarkasteltavan datan ymmärtämiseen ja laadun varmistamiseen. Tällaisia työvaiheita ovat ainakin datan ensitarkastelu esimerkikiksi erilaisten tilastollisten hajontalukujen tai nopeiden visualisointien avulla (ks. viime viikon koodidemo), sekä aineiston yhteensovittaminen (data wrangling).\n",
    "\n",
    "Vaikuttaakin siltä, että datan saattaminen keräysvaiheesta sen analysoimista varten valmiiseen muotoon on perin ekstensiivinen ja vaativa prosessi. Tätä havaintoa tukee myös luennolla esitetty \"80/20\" nyrkkisääntö (Pareton periaate), jonka mukaan datan kerääminen, putsaaminen ja järjestäminen vastaa 80 % koko prosessiin käytetystä ajasta. Mielenkiintoisena havaintona uskon kyseisen periaatteen pätevän myös esimerkiksi tämän oppimispäiväkirjan kirjoittamiseen - 80 % ajasta kuluu materiaalin lukemiseen ja tekstin sisällön / rakenteen suunnittelemiseen, 20 % itse tekstin tuottamiseen. \n",
    "\n",
    "- Tarkemmin ohjelmointirajapinnoista, datataloudesta, omista kokemuksista / odotuksista (harkkatyöstä?)\n",
    "\n",
    "- aasinsilta - datan jalostamisen merkityksestä, garbag in, garbage out, datan tyypeistä\n",
    "\n",
    "- 80 / 20 - oma käsitys oli, että datan analysoiminen olisi vaativin / tärkein osa\n",
    "\n",
    "https://vayla.fi/vaylista/aineistot/avoindata/rajapinnat\n",
    "https://www.owox.com/blog/articles/common-data-quality-issues-how-to-overcome/\n",
    "https://towardsdatascience.com/data-quality-garbage-in-garbage-out-df727030c5eb\n",
    "https://hbr.org/2016/09/bad-data-costs-the-u-s-3-trillion-per-year\n",
    "https://www.etla.fi/julkaisut/energy-and-electricity-consumption-of-the-information-economy-sector-in-finland/\n",
    "\n",
    "\n"
   ]
  },
  {
   "cell_type": "code",
   "execution_count": null,
   "id": "95dc0de9-805e-4eb9-b7fe-f26f7f6c5842",
   "metadata": {},
   "outputs": [],
   "source": []
  },
  {
   "cell_type": "code",
   "execution_count": null,
   "id": "4d15818c-9889-496c-9e80-91e1ec2a5c37",
   "metadata": {},
   "outputs": [],
   "source": []
  },
  {
   "cell_type": "code",
   "execution_count": null,
   "id": "8dfbd171-f449-481b-aa18-9bfeae699680",
   "metadata": {},
   "outputs": [],
   "source": []
  }
 ],
 "metadata": {
  "kernelspec": {
   "display_name": "Python 3 (ipykernel)",
   "language": "python",
   "name": "python3"
  },
  "language_info": {
   "codemirror_mode": {
    "name": "ipython",
    "version": 3
   },
   "file_extension": ".py",
   "mimetype": "text/x-python",
   "name": "python",
   "nbconvert_exporter": "python",
   "pygments_lexer": "ipython3",
   "version": "3.10.2"
  }
 },
 "nbformat": 4,
 "nbformat_minor": 5
}
